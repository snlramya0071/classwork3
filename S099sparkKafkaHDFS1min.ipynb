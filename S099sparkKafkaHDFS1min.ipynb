{
 "cells": [
  {
   "cell_type": "code",
   "execution_count": 1,
   "id": "8315b6ab-b560-4a0f-b2d1-b7f76e3fd778",
   "metadata": {},
   "outputs": [],
   "source": [
    "import os\n",
    "# save using vs code\n",
    "SCALA_VERSION = '2.12'\n",
    "SPARK_VERSION = '3.1.3'\n",
    "# Download Kafka Jar file, this for readStream.format(\"kafka\"), \"kafka\" is a driver\n",
    "# kafka driver code is part of Maven Jar file\n",
    "# https://mvnrepository.com/artifact/org.apache.spark/spark-sql-kafka-0-10_2.12/3.1.3\n",
    "# pyspark-shell shall download the jar file behind..\n",
    "os.environ['PYSPARK_SUBMIT_ARGS'] = f'--packages org.apache.spark:spark-sql-kafka-0-10_{SCALA_VERSION}:{SPARK_VERSION} pyspark-shell'"
   ]
  },
  {
   "cell_type": "code",
   "execution_count": 2,
   "id": "dfa51df7-b971-46eb-82e4-e78401579b99",
   "metadata": {},
   "outputs": [],
   "source": [
    "# we use hadoop-vm as hostname, which is running on another system\n",
    "\n",
    "\n",
    "#     kafka-topics  --create --bootstrap-server hadoop-vm:9092 --replication-factor 1 --partitions 1 --topic stock-ticks"
   ]
  },
  {
   "cell_type": "code",
   "execution_count": 3,
   "id": "785281af-7447-408a-9e1f-6d67d5e7ef52",
   "metadata": {},
   "outputs": [],
   "source": [
    "import findspark\n",
    "findspark.init()"
   ]
  },
  {
   "cell_type": "code",
   "execution_count": 4,
   "id": "e177be1f-b6c8-40fb-b1bc-deae12e39654",
   "metadata": {},
   "outputs": [
    {
     "name": "stderr",
     "output_type": "stream",
     "text": [
      "22/03/20 11:50:39 WARN Utils: Your hostname, ubuntu-virtual-machine resolves to a loopback address: 127.0.1.1; using 192.168.80.128 instead (on interface ens33)\n",
      "22/03/20 11:50:39 WARN Utils: Set SPARK_LOCAL_IP if you need to bind to another address\n"
     ]
    },
    {
     "name": "stdout",
     "output_type": "stream",
     "text": [
      ":: loading settings :: url = jar:file:/opt/spark-3.1.3-bin-hadoop2.7/jars/ivy-2.4.0.jar!/org/apache/ivy/core/settings/ivysettings.xml\n"
     ]
    },
    {
     "name": "stderr",
     "output_type": "stream",
     "text": [
      "Ivy Default Cache set to: /home/ubuntu/.ivy2/cache\n",
      "The jars for the packages stored in: /home/ubuntu/.ivy2/jars\n",
      "org.apache.spark#spark-sql-kafka-0-10_2.12 added as a dependency\n",
      ":: resolving dependencies :: org.apache.spark#spark-submit-parent-ba57945b-89f2-4de9-bbc8-d7d7c99a51f1;1.0\n",
      "\tconfs: [default]\n",
      "\tfound org.apache.spark#spark-sql-kafka-0-10_2.12;3.1.3 in central\n",
      "\tfound org.apache.spark#spark-token-provider-kafka-0-10_2.12;3.1.3 in central\n",
      "\tfound org.apache.kafka#kafka-clients;2.6.0 in central\n",
      "\tfound com.github.luben#zstd-jni;1.4.8-1 in central\n",
      "\tfound org.lz4#lz4-java;1.7.1 in central\n",
      "\tfound org.xerial.snappy#snappy-java;1.1.8.2 in central\n",
      "\tfound org.slf4j#slf4j-api;1.7.30 in central\n",
      "\tfound org.spark-project.spark#unused;1.0.0 in central\n",
      "\tfound org.apache.commons#commons-pool2;2.6.2 in central\n",
      ":: resolution report :: resolve 583ms :: artifacts dl 9ms\n",
      "\t:: modules in use:\n",
      "\tcom.github.luben#zstd-jni;1.4.8-1 from central in [default]\n",
      "\torg.apache.commons#commons-pool2;2.6.2 from central in [default]\n",
      "\torg.apache.kafka#kafka-clients;2.6.0 from central in [default]\n",
      "\torg.apache.spark#spark-sql-kafka-0-10_2.12;3.1.3 from central in [default]\n",
      "\torg.apache.spark#spark-token-provider-kafka-0-10_2.12;3.1.3 from central in [default]\n",
      "\torg.lz4#lz4-java;1.7.1 from central in [default]\n",
      "\torg.slf4j#slf4j-api;1.7.30 from central in [default]\n",
      "\torg.spark-project.spark#unused;1.0.0 from central in [default]\n",
      "\torg.xerial.snappy#snappy-java;1.1.8.2 from central in [default]\n",
      "\t---------------------------------------------------------------------\n",
      "\t|                  |            modules            ||   artifacts   |\n",
      "\t|       conf       | number| search|dwnlded|evicted|| number|dwnlded|\n",
      "\t---------------------------------------------------------------------\n",
      "\t|      default     |   9   |   0   |   0   |   0   ||   9   |   0   |\n",
      "\t---------------------------------------------------------------------\n",
      ":: retrieving :: org.apache.spark#spark-submit-parent-ba57945b-89f2-4de9-bbc8-d7d7c99a51f1\n",
      "\tconfs: [default]\n",
      "\t0 artifacts copied, 9 already retrieved (0kB/15ms)\n",
      "22/03/20 11:50:41 WARN NativeCodeLoader: Unable to load native-hadoop library for your platform... using builtin-java classes where applicable\n",
      "Using Spark's default log4j profile: org/apache/spark/log4j-defaults.properties\n",
      "Setting default log level to \"WARN\".\n",
      "To adjust logging level use sc.setLogLevel(newLevel). For SparkR, use setLogLevel(newLevel).\n",
      "22/03/20 11:50:42 WARN Utils: Service 'SparkUI' could not bind on port 4040. Attempting port 4041.\n",
      "22/03/20 11:50:42 WARN Utils: Service 'SparkUI' could not bind on port 4041. Attempting port 4042.\n"
     ]
    }
   ],
   "source": [
    "import pyspark\n",
    "\n",
    "\n",
    "from pyspark.sql import SparkSession\n",
    "# spark groupBy has default setting for spark.sql.shuffle.partitions as 200\n",
    "# we set to  4, should NOT be done in production \n",
    "spark = SparkSession.builder.master(\"local[1]\")\\\n",
    "                            .config('spark.sql.shuffle.partitions', 4)\\\n",
    "                            .appName(\"SparkStreamingKafkaCandles\").getOrCreate()"
   ]
  },
  {
   "cell_type": "code",
   "execution_count": 6,
   "id": "7db41d4a-ee4d-4288-ae0c-5df08af0f429",
   "metadata": {},
   "outputs": [],
   "source": [
    "# read from kafka, here spark is consumer for kafka topic called test\n",
    "# spark streaming works as dataframe/sql\n",
    "# group.id is consumer group id\n",
    "# subcribe is kafka topic\n",
    "# \"kafka\" driver is not available by default with spark, we need to download it, we did on cell 1\n",
    "# GROUP ID SHOULD BE CHANGED FOR EVERY PERSON \n",
    "kafkaDf = spark.readStream.format(\"kafka\")\\\n",
    "  .option(\"kafka.bootstrap.servers\", \"hadoop-vm:9092\")\\\n",
    "  .option(\"subscribe\", \"stock-ticks\")\\\n",
    "  .option(\"group.id\", \"stock-ticks-group-hdfsmr1\")\\\n",
    "  .load()"
   ]
  },
  {
   "cell_type": "code",
   "execution_count": 7,
   "id": "8a0d728e-c90d-4818-9f26-3a04995eb0c3",
   "metadata": {},
   "outputs": [
    {
     "name": "stdout",
     "output_type": "stream",
     "text": [
      "root\n",
      " |-- key: binary (nullable = true)\n",
      " |-- value: binary (nullable = true)\n",
      " |-- topic: string (nullable = true)\n",
      " |-- partition: integer (nullable = true)\n",
      " |-- offset: long (nullable = true)\n",
      " |-- timestamp: timestamp (nullable = true)\n",
      " |-- timestampType: integer (nullable = true)\n",
      "\n"
     ]
    }
   ],
   "source": [
    "# key and value are binary type, we need to CAST To STRING type\n",
    "kafkaDf.printSchema()\n",
    "# timestampType values\n",
    "# CreateTime:  Timestamp relates to message creation time as set by a Kafka client/producer\n",
    "# LogAppendTime : Timestamp relates to the time a message was appended to a Kafka log.\n",
    "# UnknownType"
   ]
  },
  {
   "cell_type": "code",
   "execution_count": 8,
   "id": "f1e31af3-7577-43e0-901d-dc4656f878b3",
   "metadata": {},
   "outputs": [
    {
     "name": "stdout",
     "output_type": "stream",
     "text": [
      "root\n",
      " |-- value: string (nullable = true)\n",
      " |-- timestamp: timestamp (nullable = true)\n",
      "\n"
     ]
    }
   ],
   "source": [
    "# Kafka value, key are in binary format\n",
    "# we need to type cast to STRING, \n",
    "# we pick only value, timestamp as we need for 10 minute window\n",
    "ticksDf = kafkaDf.selectExpr(\"CAST(value AS STRING)\", \"timestamp\")\n",
    "ticksDf.printSchema() # we get only value as string"
   ]
  },
  {
   "cell_type": "code",
   "execution_count": 9,
   "id": "04a435c2-6efc-4a6b-8637-baa23f5dbf73",
   "metadata": {},
   "outputs": [],
   "source": [
    "import pyspark.sql.functions as F\n",
    "from pyspark.sql.types import StructField, StructType, DoubleType, StringType, LongType, TimestampType\n",
    "\n",
    "schema = StructType( [\n",
    "    StructField(\"symbol\", StringType(), True),\n",
    "    StructField(\"price\", DoubleType(), True),\n",
    "    StructField(\"volume\", LongType(), True),\n",
    "    StructField(\"timestamp\", LongType(),  True)\n",
    "])"
   ]
  },
  {
   "cell_type": "code",
   "execution_count": 10,
   "id": "dd448f71-9b99-4082-a111-45df7bb415f8",
   "metadata": {},
   "outputs": [
    {
     "name": "stdout",
     "output_type": "stream",
     "text": [
      "root\n",
      " |-- value: struct (nullable = true)\n",
      " |    |-- symbol: string (nullable = true)\n",
      " |    |-- price: double (nullable = true)\n",
      " |    |-- volume: long (nullable = true)\n",
      " |    |-- timestamp: long (nullable = true)\n",
      " |-- timestamp: timestamp (nullable = true)\n",
      "\n"
     ]
    }
   ],
   "source": [
    "# we parse value which is JSON string to kafka struct, \n",
    "# this create a new column [replacing existing value which is string] with type\n",
    "jsonDf = ticksDf.withColumn(\"value\", F.from_json(\"value\", schema))\n",
    "jsonDf.printSchema()"
   ]
  },
  {
   "cell_type": "code",
   "execution_count": 11,
   "id": "a507fbfb-d730-4a53-86b9-fcbe332005ee",
   "metadata": {},
   "outputs": [
    {
     "name": "stdout",
     "output_type": "stream",
     "text": [
      "root\n",
      " |-- symbol: string (nullable = true)\n",
      " |-- price: double (nullable = true)\n",
      " |-- volume: long (nullable = true)\n",
      " |-- timestamp: long (nullable = true)\n",
      "\n"
     ]
    }
   ],
   "source": [
    "# now extract all the sub fields symbol, price, volume, timestamp into data frame\n",
    "# exisitng value, timestamp shall be removed. existing timestamp is value produced time, not a stock tick time\n",
    "# value.timestamp that comes from producer is basically a event time\n",
    "stockTickDf = jsonDf.select (F.col(\"value.*\")) # extract all sub fields as schema\n",
    "stockTickDf.printSchema()"
   ]
  },
  {
   "cell_type": "code",
   "execution_count": 12,
   "id": "2e6583bc-73bd-47be-8555-02b0a87e57c3",
   "metadata": {},
   "outputs": [],
   "source": [
    "# we have data coming in stream, each record has timestamp\n",
    "# we have milli seconds 1647283268253, the actual seconds Mon Mar 14 2022 14:41:08\n",
    "# now we have to calculate 1 minute window, sum(volume) up to 1 minute\n",
    "# after conversions, we take timestamp which is truncatd to minute instead of milli seconds, drop temp columns\n",
    "stockTickDf = stockTickDf\\\n",
    "                .withColumn(\"timestampTemp\", (F.col(\"timestamp\") / 1000).cast(\"timestamp\"))\\\n",
    "                .withColumn(\"trade_time\", F.date_trunc(\"minute\", F.col(\"timestampTemp\")))\\\n",
    "                .drop(\"timestamp\")\\\n",
    "                .drop(\"timestampTemp\")\\\n",
    "                .withColumnRenamed(\"trade_time\", \"timestamp\")\n",
    "               "
   ]
  },
  {
   "cell_type": "code",
   "execution_count": 13,
   "id": "6b9ea32f-78dc-4c99-89f1-af003355d893",
   "metadata": {},
   "outputs": [
    {
     "data": {
      "text/plain": [
       "<pyspark.sql.streaming.StreamingQuery at 0x7f09f467d190>"
      ]
     },
     "execution_count": 13,
     "metadata": {},
     "output_type": "execute_result"
    },
    {
     "name": "stderr",
     "output_type": "stream",
     "text": [
      "                                                                                \r"
     ]
    }
   ],
   "source": [
    "import pyspark.sql.functions as F\n",
    "# output DataStreamWriter\n",
    "# copy symbol to _symbol for partition, as spark shall remove the column \n",
    "# if we use  the column in partitionBy\n",
    "\n",
    "(\n",
    "    stockTickDf\n",
    "     .withColumn(\"year\", F.date_format(F.col(\"timestamp\"), \"yyyy\"))\n",
    "     .withColumn(\"month\", F.date_format(F.col(\"timestamp\"), \"MM\"))\n",
    "     .withColumn(\"day\", F.date_format(F.col(\"timestamp\"), \"dd\"))  \n",
    "     .withColumn(\"hour\", F.date_format(F.col(\"timestamp\"), \"HH\"))   \n",
    "     .withColumn(\"_symbol\", F.col(\"symbol\"))   \n",
    "    .writeStream\n",
    "    .trigger(processingTime='65 seconds')\\\n",
    "    .queryName(\"Write Ticks to CSV trigger by 1 min hour\")\n",
    "    .format(\"csv\")\n",
    "    .option(\"path\", \"hdfs://localhost:9000/dump-csv-trigger-hourly-1min\")\n",
    "    .option(\"header\", True)\n",
    "    .option(\"checkpointLocation\", \"hdfs://localhost:9000/checkpoint/tickscsvtohdfs6\")\n",
    "    .partitionBy(\"year\", \"month\", \"day\", \"hour\", \"_symbol\")\n",
    "    .option(\"truncate\", False)\n",
    "    .start()\n",
    ")"
   ]
  },
  {
   "cell_type": "code",
   "execution_count": null,
   "id": "1826c815-51c2-4dd8-80e0-8780f4414c11",
   "metadata": {},
   "outputs": [],
   "source": []
  }
 ],
 "metadata": {
  "kernelspec": {
   "display_name": "Python 3 (ipykernel)",
   "language": "python",
   "name": "python3"
  },
  "language_info": {
   "codemirror_mode": {
    "name": "ipython",
    "version": 3
   },
   "file_extension": ".py",
   "mimetype": "text/x-python",
   "name": "python",
   "nbconvert_exporter": "python",
   "pygments_lexer": "ipython3",
   "version": "3.7.12"
  }
 },
 "nbformat": 4,
 "nbformat_minor": 5
}
