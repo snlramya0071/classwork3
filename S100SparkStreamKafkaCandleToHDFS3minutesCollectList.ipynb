{
 "cells": [
  {
   "cell_type": "code",
   "execution_count": 1,
   "id": "a7605ece-afa0-443a-bbfe-f61f07262e2b",
   "metadata": {},
   "outputs": [],
   "source": [
    "import os\n",
    "# save using vs code\n",
    "SCALA_VERSION = '2.12'\n",
    "SPARK_VERSION = '3.1.3'\n",
    "# Download Kafka Jar file, this for readStream.format(\"kafka\"), \"kafka\" is a driver\n",
    "# kafka driver code is part of Maven Jar file\n",
    "# https://mvnrepository.com/artifact/org.apache.spark/spark-sql-kafka-0-10_2.12/3.1.3\n",
    "# pyspark-shell shall download the jar file behind..\n",
    "os.environ['PYSPARK_SUBMIT_ARGS'] = f'--packages org.apache.spark:spark-sql-kafka-0-10_{SCALA_VERSION}:{SPARK_VERSION} pyspark-shell'"
   ]
  },
  {
   "cell_type": "code",
   "execution_count": 2,
   "id": "9b25adfe-5931-4107-aec7-0f6616a03617",
   "metadata": {},
   "outputs": [],
   "source": [
    "# here we implement windowed candle data for 1 minute\n",
    "# here we implement windowed candle data for 3 minute\n",
    "# here we implement windowed candle data for 5 minute\n",
    "\n",
    "# we use hadoop-vm as hostname, which is running on another system\n",
    "\n",
    "\n",
    "#     kafka-topics  --create --bootstrap-server hadoop-vm:9092 --replication-factor 1 --partitions 1 --topic stock-ticks \n",
    "    \n",
    "#     kafka-topics  --create --bootstrap-server hadoop-vm:9092 --replication-factor 1 --partitions 1 --topic candles-1min \n",
    "#     kafka-console-consumer --bootstrap-server hadoop-vm:9092 --topic  candles-1min  --from-beginning\n",
    " \n",
    "#     kafka-topics  --create --bootstrap-server hadoop-vm:9092 --replication-factor 1 --partitions 1 --topic candles-3min \n",
    "#     kafka-console-consumer --bootstrap-server hadoop-vm:9092 --topic  candles-3min  --from-beginning\n",
    "\n",
    "#     kafka-topics  --create --bootstrap-server hadoop-vm:9092 --replication-factor 1 --partitions 1 --topic candles-5min \n",
    "#     kafka-console-consumer --bootstrap-server hadoop-vm:9092 --topic  candles-5min  --from-beginning"
   ]
  },
  {
   "cell_type": "code",
   "execution_count": 3,
   "id": "3312aa57-eec1-4ea7-8885-e618ca9bb490",
   "metadata": {},
   "outputs": [],
   "source": [
    "import findspark\n",
    "findspark.init()"
   ]
  },
  {
   "cell_type": "code",
   "execution_count": 4,
   "id": "594f4479-73dd-49bb-b0f5-c095ffaf632a",
   "metadata": {},
   "outputs": [
    {
     "name": "stderr",
     "output_type": "stream",
     "text": [
      "22/03/21 05:48:03 WARN Utils: Your hostname, ubuntu-virtual-machine resolves to a loopback address: 127.0.1.1; using 192.168.80.128 instead (on interface ens33)\n",
      "22/03/21 05:48:03 WARN Utils: Set SPARK_LOCAL_IP if you need to bind to another address\n"
     ]
    },
    {
     "name": "stdout",
     "output_type": "stream",
     "text": [
      ":: loading settings :: url = jar:file:/opt/spark-3.1.3-bin-hadoop2.7/jars/ivy-2.4.0.jar!/org/apache/ivy/core/settings/ivysettings.xml\n"
     ]
    },
    {
     "name": "stderr",
     "output_type": "stream",
     "text": [
      "Ivy Default Cache set to: /home/ubuntu/.ivy2/cache\n",
      "The jars for the packages stored in: /home/ubuntu/.ivy2/jars\n",
      "org.apache.spark#spark-sql-kafka-0-10_2.12 added as a dependency\n",
      ":: resolving dependencies :: org.apache.spark#spark-submit-parent-0a5cc83a-7f35-4dc4-bff6-b6a809aa84e6;1.0\n",
      "\tconfs: [default]\n",
      "\tfound org.apache.spark#spark-sql-kafka-0-10_2.12;3.1.3 in central\n",
      "\tfound org.apache.spark#spark-token-provider-kafka-0-10_2.12;3.1.3 in central\n",
      "\tfound org.apache.kafka#kafka-clients;2.6.0 in central\n",
      "\tfound com.github.luben#zstd-jni;1.4.8-1 in central\n",
      "\tfound org.lz4#lz4-java;1.7.1 in central\n",
      "\tfound org.xerial.snappy#snappy-java;1.1.8.2 in central\n",
      "\tfound org.slf4j#slf4j-api;1.7.30 in central\n",
      "\tfound org.spark-project.spark#unused;1.0.0 in central\n",
      "\tfound org.apache.commons#commons-pool2;2.6.2 in central\n",
      ":: resolution report :: resolve 572ms :: artifacts dl 11ms\n",
      "\t:: modules in use:\n",
      "\tcom.github.luben#zstd-jni;1.4.8-1 from central in [default]\n",
      "\torg.apache.commons#commons-pool2;2.6.2 from central in [default]\n",
      "\torg.apache.kafka#kafka-clients;2.6.0 from central in [default]\n",
      "\torg.apache.spark#spark-sql-kafka-0-10_2.12;3.1.3 from central in [default]\n",
      "\torg.apache.spark#spark-token-provider-kafka-0-10_2.12;3.1.3 from central in [default]\n",
      "\torg.lz4#lz4-java;1.7.1 from central in [default]\n",
      "\torg.slf4j#slf4j-api;1.7.30 from central in [default]\n",
      "\torg.spark-project.spark#unused;1.0.0 from central in [default]\n",
      "\torg.xerial.snappy#snappy-java;1.1.8.2 from central in [default]\n",
      "\t---------------------------------------------------------------------\n",
      "\t|                  |            modules            ||   artifacts   |\n",
      "\t|       conf       | number| search|dwnlded|evicted|| number|dwnlded|\n",
      "\t---------------------------------------------------------------------\n",
      "\t|      default     |   9   |   0   |   0   |   0   ||   9   |   0   |\n",
      "\t---------------------------------------------------------------------\n",
      ":: retrieving :: org.apache.spark#spark-submit-parent-0a5cc83a-7f35-4dc4-bff6-b6a809aa84e6\n",
      "\tconfs: [default]\n",
      "\t0 artifacts copied, 9 already retrieved (0kB/14ms)\n",
      "22/03/21 05:48:04 WARN NativeCodeLoader: Unable to load native-hadoop library for your platform... using builtin-java classes where applicable\n",
      "Using Spark's default log4j profile: org/apache/spark/log4j-defaults.properties\n",
      "Setting default log level to \"WARN\".\n",
      "To adjust logging level use sc.setLogLevel(newLevel). For SparkR, use setLogLevel(newLevel).\n",
      "22/03/21 05:48:06 WARN Utils: Service 'SparkUI' could not bind on port 4040. Attempting port 4041.\n",
      "22/03/21 05:48:06 WARN Utils: Service 'SparkUI' could not bind on port 4041. Attempting port 4042.\n"
     ]
    }
   ],
   "source": [
    "import pyspark\n",
    "\n",
    "\n",
    "from pyspark.sql import SparkSession\n",
    "# spark groupBy has default setting for spark.sql.shuffle.partitions as 200\n",
    "# we set to  4, should NOT be done in production \n",
    "spark = SparkSession.builder.master(\"local[1]\")\\\n",
    "                            .config('spark.sql.shuffle.partitions', 4)\\\n",
    "                            .appName(\"SparkStreamingKafkaCandles\").getOrCreate()"
   ]
  },
  {
   "cell_type": "code",
   "execution_count": 5,
   "id": "c181d0c9-369a-4a0b-bdab-dc09fb34127f",
   "metadata": {},
   "outputs": [],
   "source": [
    "# read from kafka, here spark is consumer for kafka topic called test\n",
    "# spark streaming works as dataframe/sql\n",
    "# group.id is consumer group id\n",
    "# subcribe is kafka topic\n",
    "# \"kafka\" driver is not available by default with spark, we need to download it, we did on cell 1\n",
    "# GROUP ID SHOULD BE CHANGED FOR EVERY PERSON \n",
    "kafkaDf = spark.readStream.format(\"kafka\")\\\n",
    "  .option(\"kafka.bootstrap.servers\", \"hadoop-vm:9092\")\\\n",
    "  .option(\"subscribe\", \"stock-ticks\")\\\n",
    "  .option(\"group.id\", \"stock-ticks-group23rm3\")\\\n",
    "  .load()"
   ]
  },
  {
   "cell_type": "code",
   "execution_count": 6,
   "id": "d3fe383b-358a-49be-b714-0748b5945c06",
   "metadata": {},
   "outputs": [
    {
     "name": "stdout",
     "output_type": "stream",
     "text": [
      "root\n",
      " |-- key: binary (nullable = true)\n",
      " |-- value: binary (nullable = true)\n",
      " |-- topic: string (nullable = true)\n",
      " |-- partition: integer (nullable = true)\n",
      " |-- offset: long (nullable = true)\n",
      " |-- timestamp: timestamp (nullable = true)\n",
      " |-- timestampType: integer (nullable = true)\n",
      "\n"
     ]
    }
   ],
   "source": [
    "# key and value are binary type, we need to CAST To STRING type\n",
    "kafkaDf.printSchema()\n",
    "# timestampType values\n",
    "# CreateTime:  Timestamp relates to message creation time as set by a Kafka client/producer\n",
    "# LogAppendTime : Timestamp relates to the time a message was appended to a Kafka log.\n",
    "# UnknownType"
   ]
  },
  {
   "cell_type": "code",
   "execution_count": 7,
   "id": "077fe182-2782-4fdc-bfed-bac4125fb461",
   "metadata": {},
   "outputs": [
    {
     "name": "stdout",
     "output_type": "stream",
     "text": [
      "root\n",
      " |-- value: string (nullable = true)\n",
      " |-- timestamp: timestamp (nullable = true)\n",
      "\n"
     ]
    }
   ],
   "source": [
    "# Kafka value, key are in binary format\n",
    "# we need to type cast to STRING, \n",
    "# we pick only value, timestamp as we need for 10 minute window\n",
    "ticksDf = kafkaDf.selectExpr(\"CAST(value AS STRING)\", \"timestamp\")\n",
    "ticksDf.printSchema() # we get only value as string"
   ]
  },
  {
   "cell_type": "code",
   "execution_count": 8,
   "id": "69d60674-2945-49b4-8b70-98bdcc16b05e",
   "metadata": {},
   "outputs": [],
   "source": [
    "import pyspark.sql.functions as F\n",
    "from pyspark.sql.types import StructField, StructType, DoubleType, StringType, LongType, TimestampType\n",
    "\n",
    "schema = StructType( [\n",
    "    StructField(\"symbol\", StringType(), True),\n",
    "    StructField(\"price\", DoubleType(), True),\n",
    "    StructField(\"volume\", LongType(), True),\n",
    "    StructField(\"timestamp\", LongType(),  True)\n",
    "])"
   ]
  },
  {
   "cell_type": "code",
   "execution_count": 9,
   "id": "53761fac-dafd-49d8-9818-2e09cbda6488",
   "metadata": {},
   "outputs": [
    {
     "name": "stdout",
     "output_type": "stream",
     "text": [
      "root\n",
      " |-- value: struct (nullable = true)\n",
      " |    |-- symbol: string (nullable = true)\n",
      " |    |-- price: double (nullable = true)\n",
      " |    |-- volume: long (nullable = true)\n",
      " |    |-- timestamp: long (nullable = true)\n",
      " |-- timestamp: timestamp (nullable = true)\n",
      "\n"
     ]
    }
   ],
   "source": [
    "# we parse value which is JSON string to kafka struct, \n",
    "# this create a new column [replacing existing value which is string] with type\n",
    "jsonDf = ticksDf.withColumn(\"value\", F.from_json(\"value\", schema))\n",
    "jsonDf.printSchema()"
   ]
  },
  {
   "cell_type": "code",
   "execution_count": 10,
   "id": "72fe8277-f6be-4086-9de6-4bdce45a9bc1",
   "metadata": {},
   "outputs": [
    {
     "name": "stdout",
     "output_type": "stream",
     "text": [
      "root\n",
      " |-- symbol: string (nullable = true)\n",
      " |-- price: double (nullable = true)\n",
      " |-- volume: long (nullable = true)\n",
      " |-- timestamp: long (nullable = true)\n",
      "\n"
     ]
    }
   ],
   "source": [
    "# now extract all the sub fields symbol, price, volume, timestamp into data frame\n",
    "# exisitng value, timestamp shall be removed. existing timestamp is value produced time, not a stock tick time\n",
    "# value.timestamp that comes from producer is basically a event time\n",
    "stockTickDf = jsonDf.select (F.col(\"value.*\")) # extract all sub fields as schema\n",
    "stockTickDf.printSchema()"
   ]
  },
  {
   "cell_type": "code",
   "execution_count": 11,
   "id": "bd4fa5e3-0c56-4b1b-bf73-2c01a0146093",
   "metadata": {},
   "outputs": [
    {
     "name": "stdout",
     "output_type": "stream",
     "text": [
      "root\n",
      " |-- symbol: string (nullable = true)\n",
      " |-- price: double (nullable = true)\n",
      " |-- volume: long (nullable = true)\n",
      " |-- timestamp: timestamp (nullable = true)\n",
      "\n"
     ]
    }
   ],
   "source": [
    "# we have data coming in stream, each record has timestamp\n",
    "# we have milli seconds 1647283268253, the actual seconds Mon Mar 14 2022 14:41:08\n",
    "# now we have to calculate 1 minute window, sum(volume) up to 1 minute\n",
    "# after conversions, we take timestamp which is truncatd to minute instead of milli seconds, drop temp columns\n",
    "stockTickDf = stockTickDf\\\n",
    "                .withColumn(\"timestamp\", (F.col(\"timestamp\") / 1000).cast(\"timestamp\"))\\\n",
    "                \n",
    "\n",
    "stockTickDf.printSchema()\n",
    "# echoOnconsole = stockTickDf\\\n",
    "#                 .writeStream\\\n",
    "#                 .outputMode(\"update\")\\\n",
    "#                 .format(\"console\")\\\n",
    "#                 .option(\"truncate\", False)\\\n",
    "#                 .start() # start the query. spark will subscribe for data"
   ]
  },
  {
   "cell_type": "code",
   "execution_count": 12,
   "id": "0bbbc142-60a7-4a5d-979d-9fea6a836f29",
   "metadata": {},
   "outputs": [
    {
     "name": "stdout",
     "output_type": "stream",
     "text": [
      "root\n",
      " |-- symbol: string (nullable = true)\n",
      " |-- window: struct (nullable = false)\n",
      " |    |-- start: timestamp (nullable = true)\n",
      " |    |-- end: timestamp (nullable = true)\n",
      " |-- ticks: array (nullable = false)\n",
      " |    |-- element: struct (containsNull = false)\n",
      " |    |    |-- symbol: string (nullable = true)\n",
      " |    |    |-- price: double (nullable = true)\n",
      " |    |    |-- volume: long (nullable = true)\n",
      " |    |    |-- timestamp: timestamp (nullable = true)\n",
      "\n"
     ]
    }
   ],
   "source": [
    "# aggregate\n",
    "# sum (volume), sum(traded_value), candles open, high, low, close [OHLC]\n",
    "# groupBy by symbol, timestamp\n",
    "\n",
    "# now add delayed record processing with waterMark\n",
    "stockTickDf1Min = stockTickDf\\\n",
    "                            .selectExpr(\"timestamp\", \"symbol\",  \"struct(*) as value\")\\\n",
    "                            .withWatermark(\"timestamp\", \"3 minutes\")\\\n",
    "                            .groupBy(\"symbol\", F.window(\"timestamp\", \"180 seconds\"))\\\n",
    "                          .agg( F.collect_list(\"value\").alias(\"ticks\"))\n",
    "\n",
    "stockTickDf1Min.printSchema()"
   ]
  },
  {
   "cell_type": "code",
   "execution_count": 13,
   "id": "fb9dd92a-4051-4bfa-9a15-cc350463cb4a",
   "metadata": {},
   "outputs": [
    {
     "name": "stderr",
     "output_type": "stream",
     "text": [
      "22/03/21 05:48:54 WARN StreamingQueryManager: Temporary checkpoint location created which is deleted normally when the query didn't fail: /tmp/temporary-424884d7-3e44-4011-8f26-0d6b7b8d01d6. If it's required to delete it under any circumstances, please set spark.sql.streaming.forceDeleteTempCheckpointLocation to true. Important to know deleting temp checkpoint folder is best effort.\n"
     ]
    },
    {
     "data": {
      "text/plain": [
       "<pyspark.sql.streaming.StreamingQuery at 0x7f0bc65f8790>"
      ]
     },
     "execution_count": 13,
     "metadata": {},
     "output_type": "execute_result"
    },
    {
     "name": "stderr",
     "output_type": "stream",
     "text": [
      "                                                                                \r"
     ]
    },
    {
     "name": "stdout",
     "output_type": "stream",
     "text": [
      "process batch called 0 writing  0\n"
     ]
    },
    {
     "name": "stderr",
     "output_type": "stream",
     "text": [
      "                                                                                \r"
     ]
    },
    {
     "name": "stdout",
     "output_type": "stream",
     "text": [
      "process batch called 1 writing  0\n",
      "process batch called 2 writing  0\n",
      "process batch called 3 writing  0\n",
      "process batch called 4 writing  0\n"
     ]
    }
   ],
   "source": [
    "# spark stream with batch output\n",
    "# spark basically process the data as batch\n",
    "# for developer convinence, we have api, that can give us finite data frame for writing to file/jsbc/db/custom coding\n",
    "# process discrete output batch\n",
    "# this function is called for every update/delete/comlete triggers with result data set as dataframe\n",
    "# candleBatchDf is BATCH DATAFRAME\n",
    "# stockTickDf1Min is STREAM DATAFRAME\n",
    "def processBatchData(candleBatchDf, batch_id):\n",
    "    from pyspark.sql.functions import explode, col\n",
    "\n",
    "    print (\"process batch called\", batch_id, \"writing \", candleBatchDf.count())\n",
    "    #result = candleBatchDf.collect()\n",
    "    #print(result)\n",
    "    #candleBatchDf.printSchema()\n",
    "    #candleBatchDf.show(2, truncate = False)\n",
    "    \n",
    "    # pick all the elements inside ticks array into element\n",
    "    # breaking group using explode\n",
    "    candleTickBatchDf = (candleBatchDf.select(\"window\", explode(F.column(\"ticks\")) )\n",
    "                                      .select(F.col(\"window.*\"), F.col(\"col.*\"))\n",
    "                        \n",
    "    \n",
    "    # candleTickBatchDf.printSchema()\n",
    "    # candleTickBatchDf.show(2, truncate=False)\n",
    "    # write to csv/json/parqeut/database /jdbc etc\n",
    "        .write\n",
    "        .mode(\"append\")\n",
    "        .format(\"jdbc\")\n",
    "        .option(\"url\", \"jdbc:mysql://localhost:3306/stockdb?autoReconnect=true&useSSL=false&allowPublicKeyRetrieval=true\")\n",
    "        .option(\"driver\", \"com.mysql.jdbc.Driver\")\n",
    "        .option(\"user\", \"team\")\n",
    "        .option(\"password\", \"Team1234!\")\n",
    "        .option(\"dbtable\", \"candle_3min\")\n",
    "         .save())\n",
    "    \n",
    "    # window is nested column, has its children columns called start and end\n",
    "    # start and end are part of nested window column\n",
    "    # append mode will not delete existin data, instead append to existing table\n",
    "     \n",
    "    \n",
    "stockTickDf1Min.writeStream.outputMode(\"append\").foreachBatch(processBatchData).start()\n",
    "    \n",
    "# now go to mysql, check candle_1min exist\n",
    "# show tables;\n",
    "# select * from candle_1min"
   ]
  },
  {
   "cell_type": "code",
   "execution_count": null,
   "id": "7ffe9009-ae07-45f9-b6b2-9ea07cb00c0d",
   "metadata": {},
   "outputs": [
    {
     "name": "stdout",
     "output_type": "stream",
     "text": [
      "process batch called 65 writing  0\n",
      "process batch called 66 writing  0\n",
      "process batch called 67 writing  0\n",
      "process batch called 68 writing  0\n",
      "process batch called 69 writing  0\n",
      "process batch called 70 writing  0\n"
     ]
    }
   ],
   "source": [
    "# def processBatchData(candleBatchDf, batch_id):\n",
    "#     from pyspark.sql.functions import explode, col\n",
    "\n",
    "#     print (\"process batch called\", batch_id, \"writing \", candleBatchDf.count())\n",
    "#     #result = candleBatchDf.collect()\n",
    "#     #print(result)\n",
    "#     #candleBatchDf.printSchema()\n",
    "#     #candleBatchDf.show(2, truncate = False)\n",
    "    \n",
    "#     # pick all the elements inside ticks array into element\n",
    "#     # breaking group using explode\n",
    "#     candleTickBatchDf = (candleBatchDf.select(\"window\", explode(F.column(\"ticks\")) )\n",
    "#                                       .select(F.col(\"window.*\"), F.col(\"col.*\"))\n",
    "#                                  .coalesce(1)\n",
    "#                                  .write\n",
    "#                                 .outputMode(\"append\")\n",
    "#                                 .format(\"csv\")\n",
    "#                                 .option(\"header\", True)\n",
    "#                                  .save( \"hdfs://localhost:9000/dump3min\")\n",
    "#                             )\n",
    "# stockTickDf1Min.writeStream.outputMode(\"append\").foreachBatch(processBatchData).start()\n",
    "                        "
   ]
  },
  {
   "cell_type": "code",
   "execution_count": 15,
   "id": "ea07783e-eb1f-446f-bbf5-f744602a86bc",
   "metadata": {},
   "outputs": [
    {
     "data": {
      "text/plain": [
       "<pyspark.sql.streaming.StreamingQuery at 0x7f0be4154dd0>"
      ]
     },
     "execution_count": 15,
     "metadata": {},
     "output_type": "execute_result"
    },
    {
     "name": "stderr",
     "output_type": "stream",
     "text": [
      "                                                                                \r"
     ]
    },
    {
     "name": "stdout",
     "output_type": "stream",
     "text": [
      "process batch called 15 writing  0\n",
      "process batch called 16 writing  0\n"
     ]
    },
    {
     "name": "stderr",
     "output_type": "stream",
     "text": [
      "                                                                                \r"
     ]
    },
    {
     "name": "stdout",
     "output_type": "stream",
     "text": [
      "process batch called 17 writing  0\n",
      "process batch called 18 writing  0\n"
     ]
    },
    {
     "name": "stderr",
     "output_type": "stream",
     "text": [
      "                                                                                \r"
     ]
    },
    {
     "name": "stdout",
     "output_type": "stream",
     "text": [
      "process batch called 19 writing  0\n",
      "process batch called 20 writing  0\n",
      "process batch called 21 writing  0\n",
      "process batch called 22 writing  0\n",
      "process batch called 23 writing  0\n",
      "process batch called 24 writing  0\n",
      "process batch called 25 writing  0\n",
      "process batch called 26 writing  0\n",
      "process batch called 27 writing  0\n",
      "process batch called 28 writing  0\n"
     ]
    },
    {
     "name": "stderr",
     "output_type": "stream",
     "text": [
      "                                                                                \r"
     ]
    },
    {
     "name": "stdout",
     "output_type": "stream",
     "text": [
      "process batch called 29 writing  0\n",
      "process batch called 30 writing  0\n"
     ]
    },
    {
     "name": "stderr",
     "output_type": "stream",
     "text": [
      "                                                                                \r"
     ]
    },
    {
     "name": "stdout",
     "output_type": "stream",
     "text": [
      "process batch called 31 writing  0\n",
      "process batch called 32 writing  0\n",
      "process batch called 33 writing  0\n",
      "process batch called 34 writing  0\n",
      "process batch called 35 writing  0\n",
      "process batch called 36 writing  0\n",
      "process batch called 37 writing  0\n",
      "process batch called 38 writing  0\n",
      "process batch called 39 writing  0\n",
      "process batch called 40 writing  0\n",
      "process batch called 41 writing  0\n",
      "process batch called 42 writing  0\n"
     ]
    },
    {
     "name": "stderr",
     "output_type": "stream",
     "text": [
      "                                                                                \r"
     ]
    },
    {
     "name": "stdout",
     "output_type": "stream",
     "text": [
      "process batch called 43 writing  0\n",
      "process batch called 44 writing  0\n"
     ]
    },
    {
     "name": "stderr",
     "output_type": "stream",
     "text": [
      "                                                                                \r"
     ]
    },
    {
     "name": "stdout",
     "output_type": "stream",
     "text": [
      "process batch called 45 writing  0\n",
      "process batch called 46 writing  0\n",
      "process batch called 47 writing  0\n",
      "process batch called 48 writing  0\n",
      "process batch called 49 writing  0\n",
      "process batch called 50 writing  0\n",
      "process batch called 51 writing  0\n",
      "process batch called 52 writing  0\n",
      "process batch called 53 writing  0\n",
      "process batch called 54 writing  0\n",
      "process batch called 55 writing  0\n",
      "process batch called 56 writing  0\n"
     ]
    },
    {
     "name": "stderr",
     "output_type": "stream",
     "text": [
      "                                                                                \r"
     ]
    },
    {
     "name": "stdout",
     "output_type": "stream",
     "text": [
      "process batch called 57 writing  0\n",
      "process batch called 58 writing  0\n",
      "process batch called 59 writing  0\n",
      "process batch called 60 writing  0\n",
      "process batch called 61 writing  0\n",
      "process batch called 62 writing  0\n",
      "process batch called 63 writing  0\n",
      "process batch called 64 writing  4\n",
      "process batch called 65 writing  0\n",
      "process batch called 66 writing  0\n",
      "process batch called 67 writing  0\n",
      "process batch called 68 writing  0\n",
      "process batch called 69 writing  0\n",
      "process batch called 70 writing  0\n"
     ]
    },
    {
     "name": "stderr",
     "output_type": "stream",
     "text": [
      "                                                                                \r"
     ]
    },
    {
     "name": "stdout",
     "output_type": "stream",
     "text": [
      "process batch called 71 writing  0\n",
      "process batch called 72 writing  0\n",
      "process batch called 73 writing  0\n",
      "process batch called 74 writing  0\n",
      "process batch called 75 writing  0\n",
      "process batch called 76 writing  0\n",
      "process batch called 77 writing  0\n",
      "process batch called 78 writing  0\n",
      "process batch called 79 writing  0\n",
      "process batch called 80 writing  0\n",
      "process batch called 81 writing  0\n",
      "process batch called 82 writing  0\n"
     ]
    },
    {
     "name": "stderr",
     "output_type": "stream",
     "text": [
      "                                                                                \r"
     ]
    },
    {
     "name": "stdout",
     "output_type": "stream",
     "text": [
      "process batch called 83 writing  0\n",
      "process batch called 84 writing  0\n"
     ]
    },
    {
     "name": "stderr",
     "output_type": "stream",
     "text": [
      "                                                                                \r"
     ]
    },
    {
     "name": "stdout",
     "output_type": "stream",
     "text": [
      "process batch called 85 writing  0\n",
      "process batch called 86 writing  0\n",
      "process batch called 87 writing  0\n",
      "process batch called 88 writing  0\n",
      "process batch called 89 writing  0\n",
      "process batch called 90 writing  0\n",
      "process batch called 91 writing  0\n",
      "process batch called 92 writing  0\n",
      "process batch called 93 writing  0\n",
      "process batch called 94 writing  0\n",
      "process batch called 95 writing  0\n",
      "process batch called 96 writing  0\n"
     ]
    },
    {
     "name": "stderr",
     "output_type": "stream",
     "text": [
      "                                                                                \r"
     ]
    },
    {
     "name": "stdout",
     "output_type": "stream",
     "text": [
      "process batch called 97 writing  0\n",
      "process batch called 98 writing  0\n"
     ]
    },
    {
     "name": "stderr",
     "output_type": "stream",
     "text": [
      "                                                                                \r"
     ]
    },
    {
     "name": "stdout",
     "output_type": "stream",
     "text": [
      "process batch called 99 writing  0\n",
      "process batch called 100 writing  4\n",
      "process batch called 101 writing  0\n",
      "process batch called 102 writing  0\n",
      "process batch called 103 writing  0\n",
      "process batch called 104 writing  0\n",
      "process batch called 105 writing  0\n",
      "process batch called 106 writing  0\n",
      "process batch called 107 writing  0\n",
      "process batch called 108 writing  0\n"
     ]
    },
    {
     "name": "stderr",
     "output_type": "stream",
     "text": [
      "                                                                                \r"
     ]
    },
    {
     "name": "stdout",
     "output_type": "stream",
     "text": [
      "process batch called 109 writing  0\n",
      "process batch called 110 writing  0\n",
      "process batch called 111 writing  0\n",
      "process batch called 112 writing  0\n"
     ]
    },
    {
     "name": "stderr",
     "output_type": "stream",
     "text": [
      "                                                                                \r"
     ]
    },
    {
     "name": "stdout",
     "output_type": "stream",
     "text": [
      "process batch called 113 writing  0\n",
      "process batch called 114 writing  0\n",
      "process batch called 115 writing  0\n",
      "process batch called 116 writing  0\n",
      "process batch called 117 writing  0\n",
      "process batch called 118 writing  0\n",
      "process batch called 119 writing  0\n",
      "process batch called 120 writing  0\n",
      "process batch called 121 writing  0\n",
      "process batch called 122 writing  0\n"
     ]
    },
    {
     "name": "stderr",
     "output_type": "stream",
     "text": [
      "                                                                                \r"
     ]
    },
    {
     "name": "stdout",
     "output_type": "stream",
     "text": [
      "process batch called 123 writing  0\n",
      "process batch called 124 writing  0\n",
      "process batch called 125 writing  0\n",
      "process batch called 126 writing  0\n",
      "process batch called 127 writing  0\n",
      "process batch called 128 writing  0\n",
      "process batch called 129 writing  0\n",
      "process batch called 130 writing  0\n",
      "process batch called 131 writing  0\n",
      "process batch called 132 writing  0\n",
      "process batch called 133 writing  0\n",
      "process batch called 134 writing  0\n",
      "process batch called 135 writing  0\n",
      "process batch called 136 writing  4\n",
      "process batch called 137 writing  0\n",
      "process batch called 138 writing  0\n",
      "process batch called 139 writing  0\n",
      "process batch called 140 writing  0\n",
      "process batch called 141 writing  0\n",
      "process batch called 142 writing  0\n",
      "process batch called 143 writing  0\n",
      "process batch called 144 writing  0\n",
      "process batch called 145 writing  0\n",
      "process batch called 146 writing  0\n",
      "process batch called 147 writing  0\n",
      "process batch called 148 writing  0\n"
     ]
    },
    {
     "name": "stderr",
     "output_type": "stream",
     "text": [
      "                                                                                \r"
     ]
    },
    {
     "name": "stdout",
     "output_type": "stream",
     "text": [
      "process batch called 149 writing  0\n",
      "process batch called 150 writing  0\n",
      "process batch called 151 writing  0\n",
      "process batch called 152 writing  0\n"
     ]
    },
    {
     "name": "stderr",
     "output_type": "stream",
     "text": [
      "                                                                                \r"
     ]
    },
    {
     "name": "stdout",
     "output_type": "stream",
     "text": [
      "process batch called 153 writing  0\n",
      "process batch called 154 writing  0\n"
     ]
    },
    {
     "name": "stderr",
     "output_type": "stream",
     "text": [
      "                                                                                \r"
     ]
    },
    {
     "name": "stdout",
     "output_type": "stream",
     "text": [
      "process batch called 155 writing  0\n",
      "process batch called 156 writing  0\n",
      "process batch called 157 writing  0\n",
      "process batch called 158 writing  0\n",
      "process batch called 159 writing  0\n",
      "process batch called 160 writing  0\n"
     ]
    },
    {
     "name": "stderr",
     "output_type": "stream",
     "text": [
      "                                                                                \r"
     ]
    },
    {
     "name": "stdout",
     "output_type": "stream",
     "text": [
      "process batch called 161 writing  0\n",
      "process batch called 162 writing  0\n",
      "process batch called 163 writing  0\n",
      "process batch called 164 writing  0\n",
      "process batch called 165 writing  0\n",
      "process batch called 166 writing  0\n",
      "process batch called 167 writing  0\n",
      "process batch called 168 writing  0\n"
     ]
    },
    {
     "name": "stderr",
     "output_type": "stream",
     "text": [
      "                                                                                \r"
     ]
    },
    {
     "name": "stdout",
     "output_type": "stream",
     "text": [
      "process batch called 169 writing  0\n",
      "process batch called 170 writing  0\n",
      "process batch called 171 writing  0\n",
      "process batch called 172 writing  4\n",
      "process batch called 173 writing  0\n",
      "process batch called 174 writing  0\n",
      "process batch called 175 writing  0\n",
      "process batch called 176 writing  0\n",
      "process batch called 177 writing  0\n",
      "process batch called 178 writing  0\n",
      "process batch called 179 writing  0\n",
      "process batch called 180 writing  0\n",
      "process batch called 181 writing  0\n",
      "process batch called 182 writing  0\n",
      "process batch called 183 writing  0\n",
      "process batch called 184 writing  0\n",
      "process batch called 185 writing  0\n",
      "process batch called 186 writing  0\n"
     ]
    },
    {
     "name": "stderr",
     "output_type": "stream",
     "text": [
      "                                                                                \r"
     ]
    },
    {
     "name": "stdout",
     "output_type": "stream",
     "text": [
      "process batch called 187 writing  0\n",
      "process batch called 188 writing  0\n",
      "process batch called 189 writing  0\n",
      "process batch called 190 writing  0\n",
      "process batch called 191 writing  0\n",
      "process batch called 192 writing  0\n"
     ]
    },
    {
     "name": "stderr",
     "output_type": "stream",
     "text": [
      "                                                                                \r"
     ]
    },
    {
     "name": "stdout",
     "output_type": "stream",
     "text": [
      "process batch called 193 writing  0\n",
      "process batch called 194 writing  0\n",
      "process batch called 195 writing  0\n",
      "process batch called 196 writing  0\n",
      "process batch called 197 writing  0\n",
      "process batch called 198 writing  0\n",
      "process batch called 199 writing  0\n",
      "process batch called 200 writing  0\n"
     ]
    },
    {
     "name": "stderr",
     "output_type": "stream",
     "text": [
      "                                                                                \r"
     ]
    },
    {
     "name": "stdout",
     "output_type": "stream",
     "text": [
      "process batch called 201 writing  0\n",
      "process batch called 202 writing  0\n",
      "process batch called 203 writing  0\n",
      "process batch called 204 writing  0\n",
      "process batch called 205 writing  0\n",
      "process batch called 206 writing  0\n",
      "process batch called 207 writing  0\n",
      "process batch called 208 writing  4\n",
      "process batch called 209 writing  0\n",
      "process batch called 210 writing  0\n",
      "process batch called 211 writing  0\n",
      "process batch called 212 writing  0\n",
      "process batch called 213 writing  0\n",
      "process batch called 214 writing  0\n",
      "process batch called 215 writing  0\n",
      "process batch called 216 writing  0\n",
      "process batch called 217 writing  0\n",
      "process batch called 218 writing  0\n",
      "process batch called 219 writing  0\n",
      "process batch called 220 writing  0\n"
     ]
    },
    {
     "name": "stderr",
     "output_type": "stream",
     "text": [
      "                                                                                \r"
     ]
    },
    {
     "name": "stdout",
     "output_type": "stream",
     "text": [
      "process batch called 221 writing  0\n",
      "process batch called 222 writing  0\n",
      "process batch called 223 writing  0\n",
      "process batch called 224 writing  0\n",
      "process batch called 225 writing  0\n",
      "process batch called 226 writing  0\n"
     ]
    },
    {
     "name": "stderr",
     "output_type": "stream",
     "text": [
      "                                                                                \r"
     ]
    },
    {
     "name": "stdout",
     "output_type": "stream",
     "text": [
      "process batch called 227 writing  0\n",
      "process batch called 228 writing  0\n",
      "process batch called 229 writing  0\n",
      "process batch called 230 writing  0\n",
      "process batch called 231 writing  0\n",
      "process batch called 232 writing  0\n"
     ]
    },
    {
     "name": "stderr",
     "output_type": "stream",
     "text": [
      "                                                                                \r"
     ]
    },
    {
     "name": "stdout",
     "output_type": "stream",
     "text": [
      "process batch called 233 writing  0\n",
      "process batch called 234 writing  0\n",
      "process batch called 235 writing  0\n",
      "process batch called 236 writing  0\n",
      "process batch called 237 writing  0\n",
      "process batch called 238 writing  0\n",
      "process batch called 239 writing  0\n",
      "process batch called 240 writing  0\n",
      "process batch called 241 writing  0\n",
      "process batch called 242 writing  0\n",
      "process batch called 243 writing  0\n",
      "process batch called 244 writing  4\n",
      "process batch called 245 writing  0\n",
      "process batch called 246 writing  0\n",
      "process batch called 247 writing  0\n",
      "process batch called 248 writing  0\n",
      "process batch called 249 writing  0\n",
      "process batch called 250 writing  0\n",
      "process batch called 251 writing  0\n",
      "process batch called 252 writing  0\n"
     ]
    },
    {
     "name": "stderr",
     "output_type": "stream",
     "text": [
      "                                                                                \r"
     ]
    },
    {
     "name": "stdout",
     "output_type": "stream",
     "text": [
      "process batch called 253 writing  0\n",
      "process batch called 254 writing  0\n",
      "process batch called 255 writing  0\n",
      "process batch called 256 writing  0\n",
      "process batch called 257 writing  0\n",
      "process batch called 258 writing  0\n",
      "process batch called 259 writing  0\n",
      "process batch called 260 writing  0\n",
      "process batch called 261 writing  0\n",
      "process batch called 262 writing  0\n",
      "process batch called 263 writing  0\n",
      "process batch called 264 writing  0\n"
     ]
    },
    {
     "name": "stderr",
     "output_type": "stream",
     "text": [
      "                                                                                \r"
     ]
    },
    {
     "name": "stdout",
     "output_type": "stream",
     "text": [
      "process batch called 265 writing  0\n",
      "process batch called 266 writing  0\n",
      "process batch called 267 writing  0\n",
      "process batch called 268 writing  0\n",
      "process batch called 269 writing  0\n",
      "process batch called 270 writing  0\n",
      "process batch called 271 writing  0\n",
      "process batch called 272 writing  0\n",
      "process batch called 273 writing  0\n",
      "process batch called 274 writing  0\n",
      "process batch called 275 writing  0\n",
      "process batch called 276 writing  0\n",
      "process batch called 277 writing  0\n",
      "process batch called 278 writing  0\n",
      "process batch called 279 writing  0\n",
      "process batch called 280 writing  4\n",
      "process batch called 281 writing  0\n",
      "process batch called 282 writing  0\n",
      "process batch called 283 writing  0\n",
      "process batch called 284 writing  0\n",
      "process batch called 285 writing  0\n",
      "process batch called 286 writing  0\n",
      "process batch called 287 writing  0\n",
      "process batch called 288 writing  0\n",
      "process batch called 289 writing  0\n",
      "process batch called 290 writing  0\n"
     ]
    },
    {
     "name": "stderr",
     "output_type": "stream",
     "text": [
      "                                                                                \r"
     ]
    },
    {
     "name": "stdout",
     "output_type": "stream",
     "text": [
      "process batch called 291 writing  0\n",
      "process batch called 292 writing  0\n",
      "process batch called 293 writing  0\n",
      "process batch called 294 writing  0\n"
     ]
    },
    {
     "name": "stderr",
     "output_type": "stream",
     "text": [
      "                                                                                \r"
     ]
    },
    {
     "name": "stdout",
     "output_type": "stream",
     "text": [
      "process batch called 295 writing  0\n",
      "process batch called 296 writing  0\n",
      "process batch called 297 writing  0\n",
      "process batch called 298 writing  0\n",
      "process batch called 299 writing  0\n",
      "process batch called 300 writing  0\n",
      "process batch called 301 writing  0\n",
      "process batch called 302 writing  0\n",
      "process batch called 303 writing  0\n",
      "process batch called 304 writing  0\n",
      "process batch called 305 writing  0\n",
      "process batch called 306 writing  0\n",
      "process batch called 307 writing  0\n",
      "process batch called 308 writing  0\n"
     ]
    },
    {
     "name": "stderr",
     "output_type": "stream",
     "text": [
      "                                                                                \r"
     ]
    },
    {
     "name": "stdout",
     "output_type": "stream",
     "text": [
      "process batch called 309 writing  0\n",
      "process batch called 310 writing  0\n",
      "process batch called 311 writing  0\n",
      "process batch called 312 writing  0\n",
      "process batch called 313 writing  0\n",
      "process batch called 314 writing  0\n",
      "process batch called 315 writing  0\n",
      "process batch called 316 writing  4\n"
     ]
    },
    {
     "name": "stderr",
     "output_type": "stream",
     "text": [
      "                                                                                \r"
     ]
    },
    {
     "name": "stdout",
     "output_type": "stream",
     "text": [
      "process batch called 317 writing  0\n",
      "process batch called 318 writing  0\n",
      "process batch called 319 writing  0\n",
      "process batch called 320 writing  0\n"
     ]
    },
    {
     "name": "stderr",
     "output_type": "stream",
     "text": [
      "                                                                                \r"
     ]
    },
    {
     "name": "stdout",
     "output_type": "stream",
     "text": [
      "process batch called 321 writing  0\n",
      "process batch called 322 writing  0\n",
      "process batch called 323 writing  0\n",
      "process batch called 324 writing  0\n",
      "process batch called 325 writing  0\n",
      "process batch called 326 writing  0\n",
      "process batch called 327 writing  0\n",
      "process batch called 328 writing  0\n",
      "process batch called 329 writing  0\n",
      "process batch called 330 writing  0\n"
     ]
    },
    {
     "name": "stderr",
     "output_type": "stream",
     "text": [
      "                                                                                \r"
     ]
    },
    {
     "name": "stdout",
     "output_type": "stream",
     "text": [
      "process batch called 331 writing  0\n",
      "process batch called 332 writing  0\n",
      "process batch called 333 writing  0\n",
      "process batch called 334 writing  0\n",
      "process batch called 335 writing  0\n",
      "process batch called 336 writing  0\n",
      "process batch called 337 writing  0\n",
      "process batch called 338 writing  0\n",
      "process batch called 339 writing  0\n",
      "process batch called 340 writing  0\n",
      "process batch called 341 writing  0\n",
      "process batch called 342 writing  0\n",
      "process batch called 343 writing  0\n",
      "process batch called 344 writing  0\n",
      "process batch called 345 writing  0\n",
      "process batch called 346 writing  0\n"
     ]
    },
    {
     "name": "stderr",
     "output_type": "stream",
     "text": [
      "                                                                                \r"
     ]
    },
    {
     "name": "stdout",
     "output_type": "stream",
     "text": [
      "process batch called 347 writing  0\n",
      "process batch called 348 writing  0\n",
      "process batch called 349 writing  0\n",
      "process batch called 350 writing  0\n"
     ]
    },
    {
     "name": "stderr",
     "output_type": "stream",
     "text": [
      "                                                                                \r"
     ]
    },
    {
     "name": "stdout",
     "output_type": "stream",
     "text": [
      "process batch called 351 writing  0\n",
      "process batch called 352 writing  4\n",
      "process batch called 353 writing  0\n",
      "process batch called 354 writing  0\n",
      "process batch called 355 writing  0\n",
      "process batch called 356 writing  0\n",
      "process batch called 357 writing  0\n",
      "process batch called 358 writing  0\n",
      "process batch called 359 writing  0\n",
      "process batch called 360 writing  0\n",
      "process batch called 361 writing  0\n",
      "process batch called 362 writing  0\n",
      "process batch called 363 writing  0\n",
      "process batch called 364 writing  0\n",
      "process batch called 365 writing  0\n",
      "process batch called 366 writing  0\n",
      "process batch called 367 writing  0\n",
      "process batch called 368 writing  0\n"
     ]
    },
    {
     "name": "stderr",
     "output_type": "stream",
     "text": [
      "                                                                                \r"
     ]
    },
    {
     "name": "stdout",
     "output_type": "stream",
     "text": [
      "process batch called 369 writing  0\n",
      "process batch called 370 writing  0\n",
      "process batch called 371 writing  0\n",
      "process batch called 372 writing  0\n",
      "process batch called 373 writing  0\n",
      "process batch called 374 writing  0\n",
      "process batch called 375 writing  0\n",
      "process batch called 376 writing  0\n"
     ]
    },
    {
     "name": "stderr",
     "output_type": "stream",
     "text": [
      "                                                                                \r"
     ]
    },
    {
     "name": "stdout",
     "output_type": "stream",
     "text": [
      "process batch called 377 writing  0\n",
      "process batch called 378 writing  0\n",
      "process batch called 379 writing  0\n",
      "process batch called 380 writing  0\n",
      "process batch called 381 writing  0\n",
      "process batch called 382 writing  0\n",
      "process batch called 383 writing  0\n",
      "process batch called 384 writing  0\n",
      "process batch called 385 writing  0\n",
      "process batch called 386 writing  0\n",
      "process batch called 387 writing  0\n",
      "process batch called 388 writing  4\n",
      "process batch called 389 writing  0\n",
      "process batch called 390 writing  0\n"
     ]
    },
    {
     "name": "stderr",
     "output_type": "stream",
     "text": [
      "                                                                                \r"
     ]
    },
    {
     "name": "stdout",
     "output_type": "stream",
     "text": [
      "process batch called 391 writing  0\n",
      "process batch called 392 writing  0\n",
      "process batch called 393 writing  0\n",
      "process batch called 394 writing  0\n",
      "process batch called 395 writing  0\n",
      "process batch called 396 writing  0\n",
      "process batch called 397 writing  0\n",
      "process batch called 398 writing  0\n",
      "process batch called 399 writing  0\n",
      "process batch called 400 writing  0\n",
      "process batch called 401 writing  0\n",
      "process batch called 402 writing  0\n",
      "process batch called 403 writing  0\n",
      "process batch called 404 writing  0\n",
      "process batch called 405 writing  0\n",
      "process batch called 406 writing  0\n"
     ]
    },
    {
     "name": "stderr",
     "output_type": "stream",
     "text": [
      "                                                                                \r"
     ]
    },
    {
     "name": "stdout",
     "output_type": "stream",
     "text": [
      "process batch called 407 writing  0\n"
     ]
    },
    {
     "name": "stderr",
     "output_type": "stream",
     "text": [
      "                                                                                \r"
     ]
    },
    {
     "name": "stdout",
     "output_type": "stream",
     "text": [
      "process batch called 408 writing  0\n",
      "process batch called 409 writing  0\n",
      "process batch called 410 writing  0\n",
      "process batch called 411 writing  0\n",
      "process batch called 412 writing  0\n",
      "process batch called 413 writing  0\n",
      "process batch called 414 writing  0\n",
      "process batch called 415 writing  0\n",
      "process batch called 416 writing  0\n",
      "process batch called 417 writing  0\n",
      "process batch called 418 writing  0\n",
      "process batch called 419 writing  0\n",
      "process batch called 420 writing  0\n"
     ]
    },
    {
     "name": "stderr",
     "output_type": "stream",
     "text": [
      "                                                                                \r"
     ]
    },
    {
     "name": "stdout",
     "output_type": "stream",
     "text": [
      "process batch called 421 writing  0\n",
      "process batch called 422 writing  0\n",
      "process batch called 423 writing  0\n",
      "process batch called 424 writing  4\n",
      "process batch called 425 writing  0\n",
      "process batch called 426 writing  0\n",
      "process batch called 427 writing  0\n",
      "process batch called 428 writing  0\n",
      "process batch called 429 writing  0\n",
      "process batch called 430 writing  0\n",
      "process batch called 431 writing  0\n",
      "process batch called 432 writing  0\n"
     ]
    },
    {
     "name": "stderr",
     "output_type": "stream",
     "text": [
      "                                                                                \r"
     ]
    },
    {
     "name": "stdout",
     "output_type": "stream",
     "text": [
      "process batch called 433 writing  0\n",
      "process batch called 434 writing  0\n",
      "process batch called 435 writing  0\n",
      "process batch called 436 writing  0\n"
     ]
    },
    {
     "name": "stderr",
     "output_type": "stream",
     "text": [
      "                                                                                \r"
     ]
    },
    {
     "name": "stdout",
     "output_type": "stream",
     "text": [
      "process batch called 437 writing  0\n",
      "process batch called 438 writing  0\n",
      "process batch called 439 writing  0\n",
      "process batch called 440 writing  0\n",
      "process batch called 441 writing  0\n",
      "process batch called 442 writing  0\n",
      "process batch called 443 writing  0\n",
      "process batch called 444 writing  0\n",
      "process batch called 445 writing  0\n",
      "process batch called 446 writing  0\n"
     ]
    },
    {
     "name": "stderr",
     "output_type": "stream",
     "text": [
      "                                                                                \r"
     ]
    },
    {
     "name": "stdout",
     "output_type": "stream",
     "text": [
      "process batch called 447 writing  0\n",
      "process batch called 448 writing  0\n",
      "process batch called 449 writing  0\n",
      "process batch called 450 writing  0\n",
      "process batch called 451 writing  0\n",
      "process batch called 452 writing  0\n",
      "process batch called 453 writing  0\n",
      "process batch called 454 writing  0\n",
      "process batch called 455 writing  0\n",
      "process batch called 456 writing  0\n",
      "process batch called 457 writing  0\n",
      "process batch called 458 writing  0\n"
     ]
    },
    {
     "name": "stderr",
     "output_type": "stream",
     "text": [
      "                                                                                \r"
     ]
    },
    {
     "name": "stdout",
     "output_type": "stream",
     "text": [
      "process batch called 459 writing  0\n",
      "process batch called 460 writing  4\n",
      "process batch called 461 writing  0\n",
      "process batch called 462 writing  0\n",
      "process batch called 463 writing  0\n",
      "process batch called 464 writing  0\n"
     ]
    },
    {
     "name": "stderr",
     "output_type": "stream",
     "text": [
      "                                                                                \r"
     ]
    },
    {
     "name": "stdout",
     "output_type": "stream",
     "text": [
      "process batch called 465 writing  0\n",
      "process batch called 466 writing  0\n",
      "process batch called 467 writing  0\n",
      "process batch called 468 writing  0\n",
      "process batch called 469 writing  0\n",
      "process batch called 470 writing  0\n",
      "process batch called 471 writing  0\n",
      "process batch called 472 writing  0\n",
      "process batch called 473 writing  0\n",
      "process batch called 474 writing  0\n",
      "process batch called 475 writing  0\n",
      "process batch called 476 writing  0\n"
     ]
    },
    {
     "name": "stderr",
     "output_type": "stream",
     "text": [
      "                                                                                \r"
     ]
    },
    {
     "name": "stdout",
     "output_type": "stream",
     "text": [
      "process batch called 477 writing  0\n",
      "process batch called 478 writing  0\n",
      "process batch called 479 writing  0\n",
      "process batch called 480 writing  0\n",
      "process batch called 481 writing  0\n",
      "process batch called 482 writing  0\n",
      "process batch called 483 writing  0\n",
      "process batch called 484 writing  0\n"
     ]
    },
    {
     "name": "stderr",
     "output_type": "stream",
     "text": [
      "                                                                                \r"
     ]
    },
    {
     "name": "stdout",
     "output_type": "stream",
     "text": [
      "process batch called 485 writing  0\n",
      "process batch called 486 writing  0\n",
      "process batch called 487 writing  0\n",
      "process batch called 488 writing  0\n",
      "process batch called 489 writing  0\n",
      "process batch called 490 writing  0\n"
     ]
    },
    {
     "name": "stderr",
     "output_type": "stream",
     "text": [
      "                                                                                \r"
     ]
    },
    {
     "name": "stdout",
     "output_type": "stream",
     "text": [
      "process batch called 491 writing  0\n",
      "process batch called 492 writing  0\n",
      "process batch called 493 writing  0\n",
      "process batch called 494 writing  0\n",
      "process batch called 495 writing  0\n",
      "process batch called 496 writing  4\n",
      "process batch called 497 writing  0\n",
      "process batch called 498 writing  0\n"
     ]
    },
    {
     "name": "stderr",
     "output_type": "stream",
     "text": [
      "                                                                                \r"
     ]
    },
    {
     "name": "stdout",
     "output_type": "stream",
     "text": [
      "process batch called 499 writing  0\n",
      "process batch called 500 writing  0\n",
      "process batch called 501 writing  0\n",
      "process batch called 502 writing  0\n",
      "process batch called 503 writing  0\n",
      "process batch called 504 writing  0\n",
      "process batch called 505 writing  0\n",
      "process batch called 506 writing  0\n",
      "process batch called 507 writing  0\n",
      "process batch called 508 writing  0\n",
      "process batch called 509 writing  0\n",
      "process batch called 510 writing  0\n"
     ]
    },
    {
     "name": "stderr",
     "output_type": "stream",
     "text": [
      "                                                                                \r"
     ]
    },
    {
     "name": "stdout",
     "output_type": "stream",
     "text": [
      "process batch called 511 writing  0\n",
      "process batch called 512 writing  0\n",
      "process batch called 513 writing  0\n",
      "process batch called 514 writing  0\n",
      "process batch called 515 writing  0\n",
      "process batch called 516 writing  0\n"
     ]
    },
    {
     "name": "stderr",
     "output_type": "stream",
     "text": [
      "                                                                                \r"
     ]
    },
    {
     "name": "stdout",
     "output_type": "stream",
     "text": [
      "process batch called 517 writing  0\n",
      "process batch called 518 writing  0\n",
      "process batch called 519 writing  0\n",
      "process batch called 520 writing  0\n",
      "process batch called 521 writing  0\n",
      "process batch called 522 writing  0\n",
      "process batch called 523 writing  0\n",
      "process batch called 524 writing  0\n"
     ]
    },
    {
     "name": "stderr",
     "output_type": "stream",
     "text": [
      "                                                                                \r"
     ]
    },
    {
     "name": "stdout",
     "output_type": "stream",
     "text": [
      "process batch called 525 writing  0\n",
      "process batch called 526 writing  0\n",
      "process batch called 527 writing  0\n",
      "process batch called 528 writing  0\n",
      "process batch called 529 writing  0\n",
      "process batch called 530 writing  0\n",
      "process batch called 531 writing  0\n",
      "process batch called 532 writing  4\n",
      "process batch called 533 writing  0\n",
      "process batch called 534 writing  0\n",
      "process batch called 535 writing  0\n",
      "process batch called 536 writing  0\n"
     ]
    },
    {
     "name": "stderr",
     "output_type": "stream",
     "text": [
      "                                                                                \r"
     ]
    },
    {
     "name": "stdout",
     "output_type": "stream",
     "text": [
      "process batch called 537 writing  0\n",
      "process batch called 538 writing  0\n",
      "process batch called 539 writing  0\n",
      "process batch called 540 writing  0\n",
      "process batch called 541 writing  0\n",
      "process batch called 542 writing  0\n"
     ]
    },
    {
     "name": "stderr",
     "output_type": "stream",
     "text": [
      "                                                                                \r"
     ]
    },
    {
     "name": "stdout",
     "output_type": "stream",
     "text": [
      "process batch called 543 writing  0\n",
      "process batch called 544 writing  0\n",
      "process batch called 545 writing  0\n",
      "process batch called 546 writing  0\n",
      "process batch called 547 writing  0\n",
      "process batch called 548 writing  0\n",
      "process batch called 549 writing  0\n",
      "process batch called 550 writing  0\n",
      "process batch called 551 writing  0\n",
      "process batch called 552 writing  0\n",
      "process batch called 553 writing  0\n",
      "process batch called 554 writing  0\n",
      "process batch called 555 writing  0\n",
      "process batch called 556 writing  0\n",
      "process batch called 557 writing  0\n",
      "process batch called 558 writing  0\n"
     ]
    },
    {
     "name": "stderr",
     "output_type": "stream",
     "text": [
      "                                                                                \r"
     ]
    },
    {
     "name": "stdout",
     "output_type": "stream",
     "text": [
      "process batch called 559 writing  0\n",
      "process batch called 560 writing  0\n",
      "process batch called 561 writing  0\n",
      "process batch called 562 writing  0\n"
     ]
    },
    {
     "name": "stderr",
     "output_type": "stream",
     "text": [
      "                                                                                \r"
     ]
    },
    {
     "name": "stdout",
     "output_type": "stream",
     "text": [
      "process batch called 563 writing  0\n",
      "process batch called 564 writing  0\n",
      "process batch called 565 writing  0\n",
      "process batch called 566 writing  4\n",
      "process batch called 567 writing  0\n",
      "process batch called 568 writing  0\n",
      "process batch called 569 writing  0\n",
      "process batch called 570 writing  0\n"
     ]
    },
    {
     "name": "stderr",
     "output_type": "stream",
     "text": [
      "                                                                                \r"
     ]
    },
    {
     "name": "stdout",
     "output_type": "stream",
     "text": [
      "process batch called 571 writing  0\n",
      "process batch called 572 writing  0\n",
      "process batch called 573 writing  0\n",
      "process batch called 574 writing  0\n",
      "process batch called 575 writing  0\n",
      "process batch called 576 writing  0\n"
     ]
    },
    {
     "name": "stderr",
     "output_type": "stream",
     "text": [
      "                                                                                \r"
     ]
    },
    {
     "name": "stdout",
     "output_type": "stream",
     "text": [
      "process batch called 577 writing  0\n",
      "process batch called 578 writing  0\n",
      "process batch called 579 writing  0\n",
      "process batch called 580 writing  0\n",
      "process batch called 581 writing  0\n",
      "process batch called 582 writing  0\n",
      "process batch called 583 writing  0\n",
      "process batch called 584 writing  0\n",
      "process batch called 585 writing  0\n",
      "process batch called 586 writing  0\n",
      "process batch called 587 writing  0\n",
      "process batch called 588 writing  0\n",
      "process batch called 589 writing  0\n",
      "process batch called 590 writing  0\n",
      "process batch called 591 writing  0\n",
      "process batch called 592 writing  0\n",
      "process batch called 593 writing  0\n",
      "process batch called 594 writing  0\n",
      "process batch called 595 writing  0\n",
      "process batch called 596 writing  0\n"
     ]
    },
    {
     "name": "stderr",
     "output_type": "stream",
     "text": [
      "                                                                                \r"
     ]
    },
    {
     "name": "stdout",
     "output_type": "stream",
     "text": [
      "process batch called 597 writing  0\n",
      "process batch called 598 writing  0\n"
     ]
    },
    {
     "name": "stderr",
     "output_type": "stream",
     "text": [
      "                                                                                \r"
     ]
    },
    {
     "name": "stdout",
     "output_type": "stream",
     "text": [
      "process batch called 599 writing  0\n",
      "process batch called 600 writing  0\n",
      "process batch called 601 writing  0\n",
      "process batch called 602 writing  4\n"
     ]
    },
    {
     "name": "stderr",
     "output_type": "stream",
     "text": [
      "                                                                                \r"
     ]
    },
    {
     "name": "stdout",
     "output_type": "stream",
     "text": [
      "process batch called 603 writing  0\n",
      "process batch called 604 writing  0\n",
      "process batch called 605 writing  0\n",
      "process batch called 606 writing  0\n",
      "process batch called 607 writing  0\n",
      "process batch called 608 writing  0\n",
      "process batch called 609 writing  0\n",
      "process batch called 610 writing  0\n"
     ]
    },
    {
     "name": "stderr",
     "output_type": "stream",
     "text": [
      "                                                                                \r"
     ]
    },
    {
     "name": "stdout",
     "output_type": "stream",
     "text": [
      "process batch called 611 writing  0\n",
      "process batch called 612 writing  0\n",
      "process batch called 613 writing  0\n",
      "process batch called 614 writing  0\n",
      "process batch called 615 writing  0\n",
      "process batch called 616 writing  0\n",
      "process batch called 617 writing  0\n",
      "process batch called 618 writing  0\n",
      "process batch called 619 writing  0\n",
      "process batch called 620 writing  0\n",
      "process batch called 621 writing  0\n",
      "process batch called 622 writing  0\n"
     ]
    },
    {
     "name": "stderr",
     "output_type": "stream",
     "text": [
      "                                                                                \r"
     ]
    },
    {
     "name": "stdout",
     "output_type": "stream",
     "text": [
      "process batch called 623 writing  0\n",
      "process batch called 624 writing  0\n",
      "process batch called 625 writing  0\n",
      "process batch called 626 writing  0\n",
      "process batch called 627 writing  0\n",
      "process batch called 628 writing  0\n"
     ]
    },
    {
     "name": "stderr",
     "output_type": "stream",
     "text": [
      "                                                                                \r"
     ]
    },
    {
     "name": "stdout",
     "output_type": "stream",
     "text": [
      "process batch called 629 writing  0\n",
      "process batch called 630 writing  0\n",
      "process batch called 631 writing  0\n",
      "process batch called 632 writing  0\n",
      "process batch called 633 writing  0\n",
      "process batch called 634 writing  0\n",
      "process batch called 635 writing  0\n",
      "process batch called 636 writing  0\n"
     ]
    },
    {
     "name": "stderr",
     "output_type": "stream",
     "text": [
      "                                                                                \r"
     ]
    },
    {
     "name": "stdout",
     "output_type": "stream",
     "text": [
      "process batch called 637 writing  0\n",
      "process batch called 638 writing  4\n",
      "process batch called 639 writing  0\n",
      "process batch called 640 writing  0\n",
      "process batch called 641 writing  0\n",
      "process batch called 642 writing  0\n",
      "process batch called 643 writing  0\n",
      "process batch called 644 writing  0\n",
      "process batch called 645 writing  0\n",
      "process batch called 646 writing  0\n",
      "process batch called 647 writing  0\n",
      "process batch called 648 writing  0\n",
      "process batch called 649 writing  0\n",
      "process batch called 650 writing  0\n"
     ]
    },
    {
     "name": "stderr",
     "output_type": "stream",
     "text": [
      "                                                                                \r"
     ]
    },
    {
     "name": "stdout",
     "output_type": "stream",
     "text": [
      "process batch called 651 writing  0\n",
      "process batch called 652 writing  0\n",
      "process batch called 653 writing  0\n",
      "process batch called 654 writing  0\n"
     ]
    },
    {
     "name": "stderr",
     "output_type": "stream",
     "text": [
      "                                                                                \r"
     ]
    },
    {
     "name": "stdout",
     "output_type": "stream",
     "text": [
      "process batch called 655 writing  0\n",
      "process batch called 656 writing  0\n",
      "process batch called 657 writing  0\n",
      "process batch called 658 writing  0\n",
      "process batch called 659 writing  0\n",
      "process batch called 660 writing  0\n",
      "process batch called 661 writing  0\n",
      "process batch called 662 writing  0\n",
      "process batch called 663 writing  0\n",
      "process batch called 664 writing  0\n"
     ]
    },
    {
     "name": "stderr",
     "output_type": "stream",
     "text": [
      "                                                                                \r"
     ]
    },
    {
     "name": "stdout",
     "output_type": "stream",
     "text": [
      "process batch called 665 writing  0\n",
      "process batch called 666 writing  0\n"
     ]
    },
    {
     "name": "stderr",
     "output_type": "stream",
     "text": [
      "                                                                                \r"
     ]
    },
    {
     "name": "stdout",
     "output_type": "stream",
     "text": [
      "process batch called 667 writing  0\n",
      "process batch called 668 writing  0\n",
      "process batch called 669 writing  0\n",
      "process batch called 670 writing  0\n",
      "process batch called 671 writing  0\n",
      "process batch called 672 writing  0\n",
      "process batch called 673 writing  0\n",
      "process batch called 674 writing  4\n",
      "process batch called 675 writing  0\n",
      "process batch called 676 writing  0\n",
      "process batch called 677 writing  0\n",
      "process batch called 678 writing  0\n",
      "process batch called 679 writing  0\n",
      "process batch called 680 writing  0\n"
     ]
    },
    {
     "name": "stderr",
     "output_type": "stream",
     "text": [
      "                                                                                \r"
     ]
    },
    {
     "name": "stdout",
     "output_type": "stream",
     "text": [
      "process batch called 681 writing  0\n",
      "process batch called 682 writing  0\n",
      "process batch called 683 writing  0\n",
      "process batch called 684 writing  0\n",
      "process batch called 685 writing  0\n",
      "process batch called 686 writing  0\n",
      "process batch called 687 writing  0\n",
      "process batch called 688 writing  0\n"
     ]
    },
    {
     "name": "stderr",
     "output_type": "stream",
     "text": [
      "                                                                                \r"
     ]
    },
    {
     "name": "stdout",
     "output_type": "stream",
     "text": [
      "process batch called 689 writing  0\n",
      "process batch called 690 writing  0\n"
     ]
    },
    {
     "name": "stderr",
     "output_type": "stream",
     "text": [
      "                                                                                \r"
     ]
    },
    {
     "name": "stdout",
     "output_type": "stream",
     "text": [
      "process batch called 691 writing  0\n",
      "process batch called 692 writing  0\n",
      "process batch called 693 writing  0\n",
      "process batch called 694 writing  0\n",
      "process batch called 695 writing  0\n",
      "process batch called 696 writing  0\n",
      "process batch called 697 writing  0\n",
      "process batch called 698 writing  0\n",
      "process batch called 699 writing  0\n",
      "process batch called 700 writing  0\n",
      "process batch called 701 writing  0\n",
      "process batch called 702 writing  0\n"
     ]
    },
    {
     "name": "stderr",
     "output_type": "stream",
     "text": [
      "                                                                                \r"
     ]
    },
    {
     "name": "stdout",
     "output_type": "stream",
     "text": [
      "process batch called 703 writing  0\n",
      "process batch called 704 writing  0\n",
      "process batch called 705 writing  0\n",
      "process batch called 706 writing  0\n"
     ]
    },
    {
     "name": "stderr",
     "output_type": "stream",
     "text": [
      "                                                                                \r"
     ]
    },
    {
     "name": "stdout",
     "output_type": "stream",
     "text": [
      "process batch called 707 writing  0\n",
      "process batch called 708 writing  0\n",
      "process batch called 709 writing  0\n",
      "process batch called 710 writing  4\n",
      "process batch called 711 writing  0\n",
      "process batch called 712 writing  0\n"
     ]
    },
    {
     "name": "stderr",
     "output_type": "stream",
     "text": [
      "                                                                                \r"
     ]
    },
    {
     "name": "stdout",
     "output_type": "stream",
     "text": [
      "process batch called 713 writing  0\n",
      "process batch called 714 writing  0\n",
      "process batch called 715 writing  0\n",
      "process batch called 716 writing  0\n",
      "process batch called 717 writing  0\n",
      "process batch called 718 writing  0\n"
     ]
    },
    {
     "name": "stderr",
     "output_type": "stream",
     "text": [
      "                                                                                \r"
     ]
    },
    {
     "name": "stdout",
     "output_type": "stream",
     "text": [
      "process batch called 719 writing  0\n",
      "process batch called 720 writing  0\n",
      "process batch called 721 writing  0\n",
      "process batch called 722 writing  0\n",
      "process batch called 723 writing  0\n",
      "process batch called 724 writing  0\n",
      "process batch called 725 writing  0\n",
      "process batch called 726 writing  0\n",
      "process batch called 727 writing  0\n",
      "process batch called 728 writing  0\n",
      "process batch called 729 writing  0\n",
      "process batch called 730 writing  0\n",
      "process batch called 731 writing  0\n",
      "process batch called 732 writing  0\n"
     ]
    },
    {
     "name": "stderr",
     "output_type": "stream",
     "text": [
      "                                                                                \r"
     ]
    },
    {
     "name": "stdout",
     "output_type": "stream",
     "text": [
      "process batch called 733 writing  0\n",
      "process batch called 734 writing  0\n",
      "process batch called 735 writing  0\n",
      "process batch called 736 writing  0\n"
     ]
    },
    {
     "name": "stderr",
     "output_type": "stream",
     "text": [
      "                                                                                \r"
     ]
    },
    {
     "name": "stdout",
     "output_type": "stream",
     "text": [
      "process batch called 737 writing  0\n",
      "process batch called 738 writing  0\n",
      "process batch called 739 writing  0\n",
      "process batch called 740 writing  0\n",
      "process batch called 741 writing  0\n",
      "process batch called 742 writing  0\n",
      "process batch called 743 writing  0\n",
      "process batch called 744 writing  0\n",
      "process batch called 745 writing  0\n",
      "process batch called 746 writing  4\n",
      "process batch called 747 writing  0\n",
      "process batch called 748 writing  0\n",
      "process batch called 749 writing  0\n",
      "process batch called 750 writing  0\n",
      "process batch called 751 writing  0\n",
      "process batch called 752 writing  0\n",
      "process batch called 753 writing  0\n",
      "process batch called 754 writing  0\n",
      "process batch called 755 writing  0\n",
      "process batch called 756 writing  0\n",
      "process batch called 757 writing  0\n",
      "process batch called 758 writing  0\n"
     ]
    },
    {
     "name": "stderr",
     "output_type": "stream",
     "text": [
      "                                                                                \r"
     ]
    },
    {
     "name": "stdout",
     "output_type": "stream",
     "text": [
      "process batch called 759 writing  0\n",
      "process batch called 760 writing  0\n",
      "process batch called 761 writing  0\n",
      "process batch called 762 writing  0\n",
      "process batch called 763 writing  0\n",
      "process batch called 764 writing  0\n"
     ]
    },
    {
     "name": "stderr",
     "output_type": "stream",
     "text": [
      "                                                                                \r"
     ]
    },
    {
     "name": "stdout",
     "output_type": "stream",
     "text": [
      "process batch called 765 writing  0\n",
      "process batch called 766 writing  0\n",
      "process batch called 767 writing  0\n",
      "process batch called 768 writing  0\n",
      "process batch called 769 writing  0\n",
      "process batch called 770 writing  0\n"
     ]
    },
    {
     "name": "stderr",
     "output_type": "stream",
     "text": [
      "                                                                                \r"
     ]
    },
    {
     "name": "stdout",
     "output_type": "stream",
     "text": [
      "process batch called 771 writing  0\n",
      "process batch called 772 writing  0\n",
      "process batch called 773 writing  0\n",
      "process batch called 774 writing  0\n",
      "process batch called 775 writing  0\n",
      "process batch called 776 writing  0\n"
     ]
    },
    {
     "name": "stderr",
     "output_type": "stream",
     "text": [
      "                                                                                \r"
     ]
    },
    {
     "name": "stdout",
     "output_type": "stream",
     "text": [
      "process batch called 777 writing  0\n",
      "process batch called 778 writing  0\n",
      "process batch called 779 writing  0\n",
      "process batch called 780 writing  0\n",
      "process batch called 781 writing  0\n",
      "process batch called 782 writing  4\n",
      "process batch called 783 writing  0\n",
      "process batch called 784 writing  0\n",
      "process batch called 785 writing  0\n",
      "process batch called 786 writing  0\n",
      "process batch called 787 writing  0\n",
      "process batch called 788 writing  0\n",
      "process batch called 789 writing  0\n",
      "process batch called 790 writing  0\n"
     ]
    },
    {
     "name": "stderr",
     "output_type": "stream",
     "text": [
      "                                                                                \r"
     ]
    },
    {
     "name": "stdout",
     "output_type": "stream",
     "text": [
      "process batch called 791 writing  0\n",
      "process batch called 792 writing  0\n",
      "process batch called 793 writing  0\n",
      "process batch called 794 writing  0\n",
      "process batch called 795 writing  0\n",
      "process batch called 796 writing  0\n"
     ]
    },
    {
     "name": "stderr",
     "output_type": "stream",
     "text": [
      "                                                                                \r"
     ]
    },
    {
     "name": "stdout",
     "output_type": "stream",
     "text": [
      "process batch called 797 writing  0\n",
      "process batch called 798 writing  0\n",
      "process batch called 799 writing  0\n",
      "process batch called 800 writing  0\n",
      "process batch called 801 writing  0\n",
      "process batch called 802 writing  0\n"
     ]
    },
    {
     "name": "stderr",
     "output_type": "stream",
     "text": [
      "                                                                                \r"
     ]
    },
    {
     "name": "stdout",
     "output_type": "stream",
     "text": [
      "process batch called 803 writing  0\n",
      "process batch called 804 writing  0\n",
      "process batch called 805 writing  0\n",
      "process batch called 806 writing  0\n",
      "process batch called 807 writing  0\n",
      "process batch called 808 writing  0\n",
      "process batch called 809 writing  0\n",
      "process batch called 810 writing  0\n"
     ]
    },
    {
     "name": "stderr",
     "output_type": "stream",
     "text": [
      "                                                                                \r"
     ]
    },
    {
     "name": "stdout",
     "output_type": "stream",
     "text": [
      "process batch called 811 writing  0\n",
      "process batch called 812 writing  0\n",
      "process batch called 813 writing  0\n",
      "process batch called 814 writing  0\n",
      "process batch called 815 writing  0\n",
      "process batch called 816 writing  0\n"
     ]
    },
    {
     "name": "stderr",
     "output_type": "stream",
     "text": [
      "                                                                                \r"
     ]
    },
    {
     "name": "stdout",
     "output_type": "stream",
     "text": [
      "process batch called 817 writing  0\n",
      "process batch called 818 writing  4\n",
      "process batch called 819 writing  0\n",
      "process batch called 820 writing  0\n",
      "process batch called 821 writing  0\n",
      "process batch called 822 writing  0\n",
      "process batch called 823 writing  0\n",
      "process batch called 824 writing  0\n",
      "process batch called 825 writing  0\n",
      "process batch called 826 writing  0\n",
      "process batch called 827 writing  0\n",
      "process batch called 828 writing  0\n",
      "process batch called 829 writing  0\n",
      "process batch called 830 writing  0\n",
      "process batch called 831 writing  0\n",
      "process batch called 832 writing  0\n"
     ]
    },
    {
     "name": "stderr",
     "output_type": "stream",
     "text": [
      "                                                                                \r"
     ]
    },
    {
     "name": "stdout",
     "output_type": "stream",
     "text": [
      "process batch called 833 writing  0\n",
      "process batch called 834 writing  0\n",
      "process batch called 835 writing  0\n",
      "process batch called 836 writing  0\n"
     ]
    },
    {
     "name": "stderr",
     "output_type": "stream",
     "text": [
      "                                                                                \r"
     ]
    },
    {
     "name": "stdout",
     "output_type": "stream",
     "text": [
      "process batch called 837 writing  0\n",
      "process batch called 838 writing  0\n",
      "process batch called 839 writing  0\n",
      "process batch called 840 writing  0\n",
      "process batch called 841 writing  0\n",
      "process batch called 842 writing  0\n",
      "process batch called 843 writing  0\n",
      "process batch called 844 writing  0\n",
      "process batch called 845 writing  0\n",
      "process batch called 846 writing  0\n",
      "process batch called 847 writing  0\n",
      "process batch called 848 writing  0\n"
     ]
    },
    {
     "name": "stderr",
     "output_type": "stream",
     "text": [
      "                                                                                \r"
     ]
    },
    {
     "name": "stdout",
     "output_type": "stream",
     "text": [
      "process batch called 849 writing  0\n",
      "process batch called 850 writing  0\n",
      "process batch called 851 writing  0\n",
      "process batch called 852 writing  0\n",
      "process batch called 853 writing  0\n",
      "process batch called 854 writing  4\n",
      "process batch called 855 writing  0\n",
      "process batch called 856 writing  0\n",
      "process batch called 857 writing  0\n",
      "process batch called 858 writing  0\n",
      "process batch called 859 writing  0\n",
      "process batch called 860 writing  0\n"
     ]
    },
    {
     "name": "stderr",
     "output_type": "stream",
     "text": [
      "                                                                                \r"
     ]
    },
    {
     "name": "stdout",
     "output_type": "stream",
     "text": [
      "process batch called 861 writing  0\n",
      "process batch called 862 writing  0\n"
     ]
    },
    {
     "name": "stderr",
     "output_type": "stream",
     "text": [
      "                                                                                \r"
     ]
    },
    {
     "name": "stdout",
     "output_type": "stream",
     "text": [
      "process batch called 863 writing  0\n",
      "process batch called 864 writing  0\n",
      "process batch called 865 writing  0\n",
      "process batch called 866 writing  0\n",
      "process batch called 867 writing  0\n",
      "process batch called 868 writing  0\n",
      "process batch called 869 writing  0\n",
      "process batch called 870 writing  0\n",
      "process batch called 871 writing  0\n",
      "process batch called 872 writing  0\n",
      "process batch called 873 writing  0\n",
      "process batch called 874 writing  0\n"
     ]
    },
    {
     "name": "stderr",
     "output_type": "stream",
     "text": [
      "                                                                                \r"
     ]
    },
    {
     "name": "stdout",
     "output_type": "stream",
     "text": [
      "process batch called 875 writing  0\n",
      "process batch called 876 writing  0\n",
      "process batch called 877 writing  0\n",
      "process batch called 878 writing  0\n",
      "process batch called 879 writing  0\n",
      "process batch called 880 writing  0\n",
      "process batch called 881 writing  0\n",
      "process batch called 882 writing  0\n",
      "process batch called 883 writing  0\n",
      "process batch called 884 writing  0\n",
      "process batch called 885 writing  0\n",
      "process batch called 886 writing  0\n"
     ]
    },
    {
     "name": "stderr",
     "output_type": "stream",
     "text": [
      "                                                                                \r"
     ]
    },
    {
     "name": "stdout",
     "output_type": "stream",
     "text": [
      "process batch called 887 writing  0\n",
      "process batch called 888 writing  0\n"
     ]
    },
    {
     "name": "stderr",
     "output_type": "stream",
     "text": [
      "                                                                                \r"
     ]
    },
    {
     "name": "stdout",
     "output_type": "stream",
     "text": [
      "process batch called 889 writing  0\n",
      "process batch called 890 writing  4\n",
      "process batch called 891 writing  0\n",
      "process batch called 892 writing  0\n",
      "process batch called 893 writing  0\n",
      "process batch called 894 writing  0\n",
      "process batch called 895 writing  0\n",
      "process batch called 896 writing  0\n",
      "process batch called 897 writing  0\n",
      "process batch called 898 writing  0\n"
     ]
    },
    {
     "name": "stderr",
     "output_type": "stream",
     "text": [
      "                                                                                \r"
     ]
    },
    {
     "name": "stdout",
     "output_type": "stream",
     "text": [
      "process batch called 899 writing  0\n",
      "process batch called 900 writing  0\n",
      "process batch called 901 writing  0\n",
      "process batch called 902 writing  0\n",
      "process batch called 903 writing  0\n",
      "process batch called 904 writing  0\n",
      "process batch called 905 writing  0\n",
      "process batch called 906 writing  0\n",
      "process batch called 907 writing  0\n",
      "process batch called 908 writing  0\n",
      "process batch called 909 writing  0\n",
      "process batch called 910 writing  0\n",
      "process batch called 911 writing  0\n",
      "process batch called 912 writing  0\n",
      "process batch called 913 writing  0\n",
      "process batch called 914 writing  0\n"
     ]
    },
    {
     "name": "stderr",
     "output_type": "stream",
     "text": [
      "                                                                                \r"
     ]
    },
    {
     "name": "stdout",
     "output_type": "stream",
     "text": [
      "process batch called 915 writing  0\n",
      "process batch called 916 writing  0\n",
      "process batch called 917 writing  0\n",
      "process batch called 918 writing  0\n",
      "process batch called 919 writing  0\n",
      "process batch called 920 writing  0\n",
      "process batch called 921 writing  0\n",
      "process batch called 922 writing  0\n",
      "process batch called 923 writing  0\n",
      "process batch called 924 writing  0\n",
      "process batch called 925 writing  0\n",
      "process batch called 926 writing  4\n"
     ]
    },
    {
     "name": "stderr",
     "output_type": "stream",
     "text": [
      "                                                                                \r"
     ]
    },
    {
     "name": "stdout",
     "output_type": "stream",
     "text": [
      "process batch called 927 writing  0\n",
      "process batch called 928 writing  0\n",
      "process batch called 929 writing  0\n",
      "process batch called 930 writing  0\n",
      "process batch called 931 writing  0\n",
      "process batch called 932 writing  0\n",
      "process batch called 933 writing  0\n",
      "process batch called 934 writing  0\n",
      "process batch called 935 writing  0\n",
      "process batch called 936 writing  0\n",
      "process batch called 937 writing  0\n",
      "process batch called 938 writing  0\n",
      "process batch called 939 writing  0\n",
      "process batch called 940 writing  0\n"
     ]
    },
    {
     "name": "stderr",
     "output_type": "stream",
     "text": [
      "                                                                                \r"
     ]
    },
    {
     "name": "stdout",
     "output_type": "stream",
     "text": [
      "process batch called 941 writing  0\n",
      "process batch called 942 writing  0\n",
      "process batch called 943 writing  0\n",
      "process batch called 944 writing  0\n",
      "process batch called 945 writing  0\n",
      "process batch called 946 writing  0\n",
      "process batch called 947 writing  0\n",
      "process batch called 948 writing  0\n",
      "process batch called 949 writing  0\n",
      "process batch called 950 writing  0\n",
      "process batch called 951 writing  0\n",
      "process batch called 952 writing  0\n"
     ]
    },
    {
     "name": "stderr",
     "output_type": "stream",
     "text": [
      "                                                                                \r"
     ]
    },
    {
     "name": "stdout",
     "output_type": "stream",
     "text": [
      "process batch called 953 writing  0\n",
      "process batch called 954 writing  0\n",
      "process batch called 955 writing  0\n",
      "process batch called 956 writing  0\n",
      "process batch called 957 writing  0\n",
      "process batch called 958 writing  0\n",
      "process batch called 959 writing  0\n",
      "process batch called 960 writing  0\n",
      "process batch called 961 writing  0\n",
      "process batch called 962 writing  4\n",
      "process batch called 963 writing  0\n",
      "process batch called 964 writing  0\n",
      "process batch called 965 writing  0\n",
      "process batch called 966 writing  0\n"
     ]
    },
    {
     "name": "stderr",
     "output_type": "stream",
     "text": [
      "                                                                                \r"
     ]
    },
    {
     "name": "stdout",
     "output_type": "stream",
     "text": [
      "process batch called 967 writing  0\n",
      "process batch called 968 writing  0\n",
      "process batch called 969 writing  0\n",
      "process batch called 970 writing  0\n",
      "process batch called 971 writing  0\n",
      "process batch called 972 writing  0\n",
      "process batch called 973 writing  0\n",
      "process batch called 974 writing  0\n",
      "process batch called 975 writing  0\n",
      "process batch called 976 writing  0\n",
      "process batch called 977 writing  0\n",
      "process batch called 978 writing  0\n"
     ]
    },
    {
     "name": "stderr",
     "output_type": "stream",
     "text": [
      "                                                                                \r"
     ]
    },
    {
     "name": "stdout",
     "output_type": "stream",
     "text": [
      "process batch called 979 writing  0\n",
      "process batch called 980 writing  0\n",
      "process batch called 981 writing  0\n",
      "process batch called 982 writing  0\n",
      "process batch called 983 writing  0\n",
      "process batch called 984 writing  0\n",
      "process batch called 985 writing  0\n",
      "process batch called 986 writing  0\n",
      "process batch called 987 writing  0\n",
      "process batch called 988 writing  0\n",
      "process batch called 989 writing  0\n",
      "process batch called 990 writing  0\n",
      "process batch called 991 writing  0\n",
      "process batch called 992 writing  0\n"
     ]
    },
    {
     "name": "stderr",
     "output_type": "stream",
     "text": [
      "                                                                                \r"
     ]
    },
    {
     "name": "stdout",
     "output_type": "stream",
     "text": [
      "process batch called 993 writing  0\n",
      "process batch called 994 writing  0\n",
      "process batch called 995 writing  0\n",
      "process batch called 996 writing  0\n",
      "process batch called 997 writing  0\n",
      "process batch called 998 writing  4\n",
      "process batch called 999 writing  0\n",
      "process batch called 1000 writing  0\n",
      "process batch called 1001 writing  0\n",
      "process batch called 1002 writing  0\n",
      "process batch called 1003 writing  0\n",
      "process batch called 1004 writing  0\n"
     ]
    },
    {
     "name": "stderr",
     "output_type": "stream",
     "text": [
      "                                                                                \r"
     ]
    },
    {
     "name": "stdout",
     "output_type": "stream",
     "text": [
      "process batch called 1005 writing  0\n",
      "process batch called 1006 writing  0\n",
      "process batch called 1007 writing  0\n",
      "process batch called 1008 writing  0\n",
      "process batch called 1009 writing  0\n",
      "process batch called 1010 writing  0\n",
      "process batch called 1011 writing  0\n",
      "process batch called 1012 writing  0\n",
      "process batch called 1013 writing  0\n",
      "process batch called 1014 writing  0\n",
      "process batch called 1015 writing  0\n",
      "process batch called 1016 writing  0\n",
      "process batch called 1017 writing  0\n",
      "process batch called 1018 writing  0\n",
      "process batch called 1019 writing  0\n",
      "process batch called 1020 writing  0\n",
      "process batch called 1021 writing  0\n",
      "process batch called 1022 writing  0\n"
     ]
    },
    {
     "name": "stderr",
     "output_type": "stream",
     "text": [
      "                                                                                \r"
     ]
    },
    {
     "name": "stdout",
     "output_type": "stream",
     "text": [
      "process batch called 1023 writing  0\n",
      "process batch called 1024 writing  0\n",
      "process batch called 1025 writing  0\n",
      "process batch called 1026 writing  0\n",
      "process batch called 1027 writing  0\n",
      "process batch called 1028 writing  0\n",
      "process batch called 1029 writing  0\n",
      "process batch called 1030 writing  0\n",
      "process batch called 1031 writing  0\n",
      "process batch called 1032 writing  0\n",
      "process batch called 1033 writing  0\n",
      "process batch called 1034 writing  4\n",
      "process batch called 1035 writing  0\n",
      "process batch called 1036 writing  0\n",
      "process batch called 1037 writing  0\n",
      "process batch called 1038 writing  0\n",
      "process batch called 1039 writing  0\n",
      "process batch called 1040 writing  0\n",
      "process batch called 1041 writing  0\n",
      "process batch called 1042 writing  0\n",
      "process batch called 1043 writing  0\n",
      "process batch called 1044 writing  0\n"
     ]
    },
    {
     "name": "stderr",
     "output_type": "stream",
     "text": [
      "                                                                                \r"
     ]
    },
    {
     "name": "stdout",
     "output_type": "stream",
     "text": [
      "process batch called 1045 writing  0\n",
      "process batch called 1046 writing  0\n",
      "process batch called 1047 writing  0\n",
      "process batch called 1048 writing  0\n",
      "process batch called 1049 writing  0\n",
      "process batch called 1050 writing  0\n",
      "process batch called 1051 writing  0\n",
      "process batch called 1052 writing  0\n",
      "process batch called 1053 writing  0\n",
      "process batch called 1054 writing  0\n",
      "process batch called 1055 writing  0\n",
      "process batch called 1056 writing  0\n"
     ]
    },
    {
     "name": "stderr",
     "output_type": "stream",
     "text": [
      "                                                                                \r"
     ]
    },
    {
     "name": "stdout",
     "output_type": "stream",
     "text": [
      "process batch called 1057 writing  0\n",
      "process batch called 1058 writing  0\n",
      "process batch called 1059 writing  0\n",
      "process batch called 1060 writing  0\n",
      "process batch called 1061 writing  0\n",
      "process batch called 1062 writing  0\n",
      "process batch called 1063 writing  0\n",
      "process batch called 1064 writing  0\n",
      "process batch called 1065 writing  0\n",
      "process batch called 1066 writing  0\n",
      "process batch called 1067 writing  0\n",
      "process batch called 1068 writing  0\n",
      "process batch called 1069 writing  0\n",
      "process batch called 1070 writing  4\n",
      "process batch called 1071 writing  0\n",
      "process batch called 1072 writing  0\n",
      "process batch called 1073 writing  0\n",
      "process batch called 1074 writing  0\n",
      "process batch called 1075 writing  0\n",
      "process batch called 1076 writing  0\n",
      "process batch called 1077 writing  0\n",
      "process batch called 1078 writing  0\n",
      "process batch called 1079 writing  0\n",
      "process batch called 1080 writing  0\n",
      "process batch called 1081 writing  0\n",
      "process batch called 1082 writing  0\n"
     ]
    },
    {
     "name": "stderr",
     "output_type": "stream",
     "text": [
      "                                                                                \r"
     ]
    },
    {
     "name": "stdout",
     "output_type": "stream",
     "text": [
      "process batch called 1083 writing  0\n",
      "process batch called 1084 writing  0\n",
      "process batch called 1085 writing  0\n",
      "process batch called 1086 writing  0\n",
      "process batch called 1087 writing  0\n",
      "process batch called 1088 writing  0\n"
     ]
    },
    {
     "name": "stderr",
     "output_type": "stream",
     "text": [
      "                                                                                \r"
     ]
    },
    {
     "name": "stdout",
     "output_type": "stream",
     "text": [
      "process batch called 1089 writing  0\n",
      "process batch called 1090 writing  0\n",
      "process batch called 1091 writing  0\n",
      "process batch called 1092 writing  0\n",
      "process batch called 1093 writing  0\n",
      "process batch called 1094 writing  0\n",
      "process batch called 1095 writing  0\n",
      "process batch called 1096 writing  0\n"
     ]
    },
    {
     "name": "stderr",
     "output_type": "stream",
     "text": [
      "                                                                                \r"
     ]
    },
    {
     "name": "stdout",
     "output_type": "stream",
     "text": [
      "process batch called 1097 writing  0\n",
      "process batch called 1098 writing  0\n",
      "process batch called 1099 writing  0\n",
      "process batch called 1100 writing  0\n",
      "process batch called 1101 writing  0\n",
      "process batch called 1102 writing  0\n",
      "process batch called 1103 writing  0\n",
      "process batch called 1104 writing  0\n",
      "process batch called 1105 writing  0\n",
      "process batch called 1106 writing  4\n",
      "process batch called 1107 writing  0\n",
      "process batch called 1108 writing  0\n"
     ]
    },
    {
     "name": "stderr",
     "output_type": "stream",
     "text": [
      "                                                                                \r"
     ]
    },
    {
     "name": "stdout",
     "output_type": "stream",
     "text": [
      "process batch called 1109 writing  0\n",
      "process batch called 1110 writing  0\n",
      "process batch called 1111 writing  0\n",
      "process batch called 1112 writing  0\n",
      "process batch called 1113 writing  0\n",
      "process batch called 1114 writing  0\n",
      "process batch called 1115 writing  0\n",
      "process batch called 1116 writing  0\n",
      "process batch called 1117 writing  0\n",
      "process batch called 1118 writing  0\n",
      "process batch called 1119 writing  0\n",
      "process batch called 1120 writing  0\n",
      "process batch called 1121 writing  0\n",
      "process batch called 1122 writing  0\n"
     ]
    },
    {
     "name": "stderr",
     "output_type": "stream",
     "text": [
      "                                                                                \r"
     ]
    },
    {
     "name": "stdout",
     "output_type": "stream",
     "text": [
      "process batch called 1123 writing  0\n",
      "process batch called 1124 writing  0\n",
      "process batch called 1125 writing  0\n",
      "process batch called 1126 writing  0\n",
      "process batch called 1127 writing  0\n",
      "process batch called 1128 writing  0\n",
      "process batch called 1129 writing  0\n",
      "process batch called 1130 writing  0\n",
      "process batch called 1131 writing  0\n",
      "process batch called 1132 writing  0\n",
      "process batch called 1133 writing  0\n",
      "process batch called 1134 writing  0\n",
      "process batch called 1135 writing  0\n",
      "process batch called 1136 writing  0\n",
      "process batch called 1137 writing  0\n",
      "process batch called 1138 writing  0\n",
      "process batch called 1139 writing  0\n",
      "process batch called 1140 writing  0\n",
      "process batch called 1141 writing  0\n",
      "process batch called 1142 writing  4\n",
      "process batch called 1143 writing  0\n",
      "process batch called 1144 writing  0\n",
      "process batch called 1145 writing  0\n",
      "process batch called 1146 writing  0\n",
      "process batch called 1147 writing  0\n",
      "process batch called 1148 writing  0\n",
      "process batch called 1149 writing  0\n",
      "process batch called 1150 writing  0\n",
      "process batch called 1151 writing  0\n",
      "process batch called 1152 writing  0\n",
      "process batch called 1153 writing  0\n",
      "process batch called 1154 writing  0\n",
      "process batch called 1155 writing  0\n",
      "process batch called 1156 writing  0\n"
     ]
    },
    {
     "name": "stderr",
     "output_type": "stream",
     "text": [
      "                                                                                \r"
     ]
    },
    {
     "name": "stdout",
     "output_type": "stream",
     "text": [
      "process batch called 1157 writing  0\n",
      "process batch called 1158 writing  0\n",
      "process batch called 1159 writing  0\n",
      "process batch called 1160 writing  0\n",
      "process batch called 1161 writing  0\n",
      "process batch called 1162 writing  0\n",
      "process batch called 1163 writing  0\n",
      "process batch called 1164 writing  0\n",
      "process batch called 1165 writing  0\n",
      "process batch called 1166 writing  0\n",
      "process batch called 1167 writing  0\n",
      "process batch called 1168 writing  0\n"
     ]
    },
    {
     "name": "stderr",
     "output_type": "stream",
     "text": [
      "                                                                                \r"
     ]
    },
    {
     "name": "stdout",
     "output_type": "stream",
     "text": [
      "process batch called 1169 writing  0\n",
      "process batch called 1170 writing  0\n",
      "process batch called 1171 writing  0\n",
      "process batch called 1172 writing  0\n",
      "process batch called 1173 writing  0\n",
      "process batch called 1174 writing  0\n"
     ]
    },
    {
     "name": "stderr",
     "output_type": "stream",
     "text": [
      "                                                                                \r"
     ]
    },
    {
     "name": "stdout",
     "output_type": "stream",
     "text": [
      "process batch called 1175 writing  0\n",
      "process batch called 1176 writing  0\n",
      "process batch called 1177 writing  0\n",
      "process batch called 1178 writing  4\n",
      "process batch called 1179 writing  0\n",
      "process batch called 1180 writing  0\n",
      "process batch called 1181 writing  0\n",
      "process batch called 1182 writing  0\n"
     ]
    },
    {
     "name": "stderr",
     "output_type": "stream",
     "text": [
      "                                                                                \r"
     ]
    },
    {
     "name": "stdout",
     "output_type": "stream",
     "text": [
      "process batch called 1183 writing  0\n",
      "process batch called 1184 writing  0\n",
      "process batch called 1185 writing  0\n",
      "process batch called 1186 writing  0\n"
     ]
    },
    {
     "name": "stderr",
     "output_type": "stream",
     "text": [
      "                                                                                \r"
     ]
    },
    {
     "name": "stdout",
     "output_type": "stream",
     "text": [
      "process batch called 1187 writing  0\n",
      "process batch called 1188 writing  0\n",
      "process batch called 1189 writing  0\n",
      "process batch called 1190 writing  0\n",
      "process batch called 1191 writing  0\n",
      "process batch called 1192 writing  0\n",
      "process batch called 1193 writing  0\n",
      "process batch called 1194 writing  0\n"
     ]
    },
    {
     "name": "stderr",
     "output_type": "stream",
     "text": [
      "                                                                                \r"
     ]
    },
    {
     "name": "stdout",
     "output_type": "stream",
     "text": [
      "process batch called 1195 writing  0\n",
      "process batch called 1196 writing  0\n",
      "process batch called 1197 writing  0\n",
      "process batch called 1198 writing  0\n",
      "process batch called 1199 writing  0\n"
     ]
    },
    {
     "name": "stderr",
     "output_type": "stream",
     "text": [
      "                                                                                \r"
     ]
    },
    {
     "name": "stdout",
     "output_type": "stream",
     "text": [
      "process batch called 1200 writing  0\n",
      "process batch called 1201 writing  0\n",
      "process batch called 1202 writing  0\n",
      "process batch called 1203 writing  0\n",
      "process batch called 1204 writing  0\n",
      "process batch called 1205 writing  0\n",
      "process batch called 1206 writing  0\n",
      "process batch called 1207 writing  0\n",
      "process batch called 1208 writing  0\n"
     ]
    },
    {
     "name": "stderr",
     "output_type": "stream",
     "text": [
      "                                                                                \r"
     ]
    },
    {
     "name": "stdout",
     "output_type": "stream",
     "text": [
      "process batch called 1209 writing  0\n",
      "process batch called 1210 writing  0\n",
      "process batch called 1211 writing  0\n",
      "process batch called 1212 writing  0\n"
     ]
    },
    {
     "name": "stderr",
     "output_type": "stream",
     "text": [
      "                                                                                \r"
     ]
    },
    {
     "name": "stdout",
     "output_type": "stream",
     "text": [
      "process batch called 1213 writing  0\n",
      "process batch called 1214 writing  4\n",
      "process batch called 1215 writing  0\n",
      "process batch called 1216 writing  0\n",
      "process batch called 1217 writing  0\n",
      "process batch called 1218 writing  0\n",
      "process batch called 1219 writing  0\n",
      "process batch called 1220 writing  0\n",
      "process batch called 1221 writing  0\n",
      "process batch called 1222 writing  0\n"
     ]
    },
    {
     "name": "stderr",
     "output_type": "stream",
     "text": [
      "                                                                                \r"
     ]
    },
    {
     "name": "stdout",
     "output_type": "stream",
     "text": [
      "process batch called 1223 writing  0\n",
      "process batch called 1224 writing  0\n",
      "process batch called 1225 writing  0\n"
     ]
    },
    {
     "name": "stderr",
     "output_type": "stream",
     "text": [
      "                                                                                \r"
     ]
    },
    {
     "name": "stdout",
     "output_type": "stream",
     "text": [
      "process batch called 1226 writing  0\n",
      "process batch called 1227 writing  0\n",
      "process batch called 1228 writing  0\n",
      "process batch called 1229 writing  0\n",
      "process batch called 1230 writing  0\n",
      "process batch called 1231 writing  0\n",
      "process batch called 1232 writing  0\n",
      "process batch called 1233 writing  0\n",
      "process batch called 1234 writing  0\n",
      "process batch called 1235 writing  0\n",
      "process batch called 1236 writing  0\n"
     ]
    },
    {
     "name": "stderr",
     "output_type": "stream",
     "text": [
      "                                                                                \r"
     ]
    },
    {
     "name": "stdout",
     "output_type": "stream",
     "text": [
      "process batch called 1237 writing  0\n",
      "process batch called 1238 writing  0\n",
      "process batch called 1239 writing  0\n",
      "process batch called 1240 writing  0\n",
      "process batch called 1241 writing  0\n",
      "process batch called 1242 writing  0\n",
      "process batch called 1243 writing  0\n",
      "process batch called 1244 writing  0\n",
      "process batch called 1245 writing  0\n",
      "process batch called 1246 writing  0\n",
      "process batch called 1247 writing  0\n",
      "process batch called 1248 writing  0\n",
      "process batch called 1249 writing  0\n",
      "process batch called 1250 writing  4\n",
      "process batch called 1251 writing  0\n"
     ]
    },
    {
     "name": "stderr",
     "output_type": "stream",
     "text": [
      "                                                                                \r"
     ]
    },
    {
     "name": "stdout",
     "output_type": "stream",
     "text": [
      "process batch called 1252 writing  0\n",
      "process batch called 1253 writing  0\n",
      "process batch called 1254 writing  0\n",
      "process batch called 1255 writing  0\n",
      "process batch called 1256 writing  0\n",
      "process batch called 1257 writing  0\n",
      "process batch called 1258 writing  0\n",
      "process batch called 1259 writing  0\n",
      "process batch called 1260 writing  0\n",
      "process batch called 1261 writing  0\n",
      "process batch called 1262 writing  0\n"
     ]
    },
    {
     "name": "stderr",
     "output_type": "stream",
     "text": [
      "                                                                                \r"
     ]
    },
    {
     "name": "stdout",
     "output_type": "stream",
     "text": [
      "process batch called 1263 writing  0\n",
      "process batch called 1264 writing  0\n"
     ]
    },
    {
     "name": "stderr",
     "output_type": "stream",
     "text": [
      "                                                                                \r"
     ]
    },
    {
     "name": "stdout",
     "output_type": "stream",
     "text": [
      "process batch called 1265 writing  0\n",
      "process batch called 1266 writing  0\n",
      "process batch called 1267 writing  0\n",
      "process batch called 1268 writing  0\n",
      "process batch called 1269 writing  0\n",
      "process batch called 1270 writing  0\n",
      "process batch called 1271 writing  0\n",
      "process batch called 1272 writing  0\n",
      "process batch called 1273 writing  0\n",
      "process batch called 1274 writing  0\n",
      "process batch called 1275 writing  0\n",
      "process batch called 1276 writing  0\n"
     ]
    },
    {
     "name": "stderr",
     "output_type": "stream",
     "text": [
      "                                                                                \r"
     ]
    },
    {
     "name": "stdout",
     "output_type": "stream",
     "text": [
      "process batch called 1277 writing  0\n",
      "process batch called 1278 writing  0\n",
      "process batch called 1279 writing  0\n",
      "process batch called 1280 writing  0\n",
      "process batch called 1281 writing  0\n",
      "process batch called 1282 writing  0\n",
      "process batch called 1283 writing  0\n",
      "process batch called 1284 writing  0\n",
      "process batch called 1285 writing  0\n",
      "process batch called 1286 writing  4\n",
      "process batch called 1287 writing  0\n",
      "process batch called 1288 writing  0\n"
     ]
    },
    {
     "name": "stderr",
     "output_type": "stream",
     "text": [
      "                                                                                \r"
     ]
    },
    {
     "name": "stdout",
     "output_type": "stream",
     "text": [
      "process batch called 1289 writing  0\n",
      "process batch called 1290 writing  0\n"
     ]
    },
    {
     "name": "stderr",
     "output_type": "stream",
     "text": [
      "                                                                                \r"
     ]
    },
    {
     "name": "stdout",
     "output_type": "stream",
     "text": [
      "process batch called 1291 writing  0\n",
      "process batch called 1292 writing  0\n",
      "process batch called 1293 writing  0\n",
      "process batch called 1294 writing  0\n",
      "process batch called 1295 writing  0\n",
      "process batch called 1296 writing  0\n",
      "process batch called 1297 writing  0\n",
      "process batch called 1298 writing  0\n",
      "process batch called 1299 writing  0\n",
      "process batch called 1300 writing  0\n",
      "process batch called 1301 writing  0\n",
      "process batch called 1302 writing  0\n"
     ]
    },
    {
     "name": "stderr",
     "output_type": "stream",
     "text": [
      "                                                                                \r"
     ]
    },
    {
     "name": "stdout",
     "output_type": "stream",
     "text": [
      "process batch called 1303 writing  0\n",
      "process batch called 1304 writing  0\n",
      "process batch called 1305 writing  0\n",
      "process batch called 1306 writing  0\n",
      "process batch called 1307 writing  0\n",
      "process batch called 1308 writing  0\n",
      "process batch called 1309 writing  0\n",
      "process batch called 1310 writing  0\n",
      "process batch called 1311 writing  0\n",
      "process batch called 1312 writing  0\n",
      "process batch called 1313 writing  0\n",
      "process batch called 1314 writing  0\n",
      "process batch called 1315 writing  0\n",
      "process batch called 1316 writing  0\n",
      "process batch called 1317 writing  0\n",
      "process batch called 1318 writing  0\n",
      "process batch called 1319 writing  0\n",
      "process batch called 1320 writing  0\n",
      "process batch called 1321 writing  0\n",
      "process batch called 1322 writing  4\n",
      "process batch called 1323 writing  0\n",
      "process batch called 1324 writing  0\n",
      "process batch called 1325 writing  0\n",
      "process batch called 1326 writing  0\n",
      "process batch called 1327 writing  0\n",
      "process batch called 1328 writing  0\n"
     ]
    },
    {
     "name": "stderr",
     "output_type": "stream",
     "text": [
      "                                                                                \r"
     ]
    },
    {
     "name": "stdout",
     "output_type": "stream",
     "text": [
      "process batch called 1329 writing  0\n",
      "process batch called 1330 writing  0\n",
      "process batch called 1331 writing  0\n",
      "process batch called 1332 writing  0\n"
     ]
    },
    {
     "name": "stderr",
     "output_type": "stream",
     "text": [
      "                                                                                \r"
     ]
    },
    {
     "name": "stdout",
     "output_type": "stream",
     "text": [
      "process batch called 1333 writing  0\n",
      "process batch called 1334 writing  0\n",
      "process batch called 1335 writing  0\n",
      "process batch called 1336 writing  0\n",
      "process batch called 1337 writing  0\n",
      "process batch called 1338 writing  0\n",
      "process batch called 1339 writing  0\n",
      "process batch called 1340 writing  0\n",
      "process batch called 1341 writing  0\n",
      "process batch called 1342 writing  0\n"
     ]
    },
    {
     "name": "stderr",
     "output_type": "stream",
     "text": [
      "                                                                                \r"
     ]
    },
    {
     "name": "stdout",
     "output_type": "stream",
     "text": [
      "process batch called 1343 writing  0\n",
      "process batch called 1344 writing  0\n",
      "process batch called 1345 writing  0\n",
      "process batch called 1346 writing  0\n",
      "process batch called 1347 writing  0\n",
      "process batch called 1348 writing  0\n",
      "process batch called 1349 writing  0\n",
      "process batch called 1350 writing  0\n",
      "process batch called 1351 writing  0\n",
      "process batch called 1352 writing  0\n",
      "process batch called 1353 writing  0\n",
      "process batch called 1354 writing  0\n"
     ]
    },
    {
     "name": "stderr",
     "output_type": "stream",
     "text": [
      "                                                                                \r"
     ]
    },
    {
     "name": "stdout",
     "output_type": "stream",
     "text": [
      "process batch called 1355 writing  0\n",
      "process batch called 1356 writing  0\n",
      "process batch called 1357 writing  0\n",
      "process batch called 1358 writing  4\n",
      "process batch called 1359 writing  0\n",
      "process batch called 1360 writing  0\n",
      "process batch called 1361 writing  0\n",
      "process batch called 1362 writing  0\n",
      "process batch called 1363 writing  0\n",
      "process batch called 1364 writing  0\n",
      "process batch called 1365 writing  0\n",
      "process batch called 1366 writing  0\n",
      "process batch called 1367 writing  0\n",
      "process batch called 1368 writing  0\n",
      "process batch called 1369 writing  0\n",
      "process batch called 1370 writing  0\n",
      "process batch called 1371 writing  0\n",
      "process batch called 1372 writing  0\n",
      "process batch called 1373 writing  0\n",
      "process batch called 1374 writing  0\n",
      "process batch called 1375 writing  0\n",
      "process batch called 1376 writing  0\n",
      "process batch called 1377 writing  0\n",
      "process batch called 1378 writing  0\n",
      "process batch called 1379 writing  0\n",
      "process batch called 1380 writing  0\n"
     ]
    },
    {
     "name": "stderr",
     "output_type": "stream",
     "text": [
      "                                                                                \r"
     ]
    },
    {
     "name": "stdout",
     "output_type": "stream",
     "text": [
      "process batch called 1381 writing  0\n",
      "process batch called 1382 writing  0\n",
      "process batch called 1383 writing  0\n",
      "process batch called 1384 writing  0\n",
      "process batch called 1385 writing  0\n",
      "process batch called 1386 writing  0\n"
     ]
    },
    {
     "name": "stderr",
     "output_type": "stream",
     "text": [
      "                                                                                \r"
     ]
    },
    {
     "name": "stdout",
     "output_type": "stream",
     "text": [
      "process batch called 1387 writing  0\n",
      "process batch called 1388 writing  0\n",
      "process batch called 1389 writing  0\n",
      "process batch called 1390 writing  0\n",
      "process batch called 1391 writing  0\n",
      "process batch called 1392 writing  0\n",
      "process batch called 1393 writing  0\n",
      "process batch called 1394 writing  4\n",
      "process batch called 1395 writing  0\n",
      "process batch called 1396 writing  0\n",
      "process batch called 1397 writing  0\n",
      "process batch called 1398 writing  0\n",
      "process batch called 1399 writing  0\n",
      "process batch called 1400 writing  0\n"
     ]
    },
    {
     "name": "stderr",
     "output_type": "stream",
     "text": [
      "                                                                                \r"
     ]
    },
    {
     "name": "stdout",
     "output_type": "stream",
     "text": [
      "process batch called 1401 writing  0\n",
      "process batch called 1402 writing  0\n",
      "process batch called 1403 writing  0\n",
      "process batch called 1404 writing  0\n",
      "process batch called 1405 writing  0\n",
      "process batch called 1406 writing  0\n"
     ]
    },
    {
     "name": "stderr",
     "output_type": "stream",
     "text": [
      "                                                                                \r"
     ]
    },
    {
     "name": "stdout",
     "output_type": "stream",
     "text": [
      "process batch called 1407 writing  0\n",
      "process batch called 1408 writing  0\n",
      "process batch called 1409 writing  0\n",
      "process batch called 1410 writing  0\n",
      "process batch called 1411 writing  0\n",
      "process batch called 1412 writing  0\n",
      "process batch called 1413 writing  0\n",
      "process batch called 1414 writing  0\n",
      "process batch called 1415 writing  0\n",
      "process batch called 1416 writing  0\n",
      "process batch called 1417 writing  0\n",
      "process batch called 1418 writing  0\n",
      "process batch called 1419 writing  0\n",
      "process batch called 1420 writing  0\n",
      "process batch called 1421 writing  0\n",
      "process batch called 1422 writing  0\n",
      "process batch called 1423 writing  0\n",
      "process batch called 1424 writing  0\n"
     ]
    },
    {
     "name": "stderr",
     "output_type": "stream",
     "text": [
      "                                                                                \r"
     ]
    },
    {
     "name": "stdout",
     "output_type": "stream",
     "text": [
      "process batch called 1425 writing  0\n",
      "process batch called 1426 writing  0\n",
      "process batch called 1427 writing  0\n",
      "process batch called 1428 writing  0\n",
      "process batch called 1429 writing  0\n",
      "process batch called 1430 writing  4\n",
      "process batch called 1431 writing  0\n",
      "process batch called 1432 writing  0\n"
     ]
    },
    {
     "name": "stderr",
     "output_type": "stream",
     "text": [
      "                                                                                \r"
     ]
    },
    {
     "name": "stdout",
     "output_type": "stream",
     "text": [
      "process batch called 1433 writing  0\n",
      "process batch called 1434 writing  0\n",
      "process batch called 1435 writing  0\n",
      "process batch called 1436 writing  0\n",
      "process batch called 1437 writing  0\n",
      "process batch called 1438 writing  0\n",
      "process batch called 1439 writing  0\n",
      "process batch called 1440 writing  0\n",
      "process batch called 1441 writing  0\n",
      "process batch called 1442 writing  0\n",
      "process batch called 1443 writing  0\n",
      "process batch called 1444 writing  0\n",
      "process batch called 1445 writing  0\n",
      "process batch called 1446 writing  0\n"
     ]
    },
    {
     "name": "stderr",
     "output_type": "stream",
     "text": [
      "                                                                                \r"
     ]
    },
    {
     "name": "stdout",
     "output_type": "stream",
     "text": [
      "process batch called 1447 writing  0\n",
      "process batch called 1448 writing  0\n",
      "process batch called 1449 writing  0\n",
      "process batch called 1450 writing  0\n",
      "process batch called 1451 writing  0\n",
      "process batch called 1452 writing  0\n",
      "process batch called 1453 writing  0\n",
      "process batch called 1454 writing  0\n",
      "process batch called 1455 writing  0\n",
      "process batch called 1456 writing  0\n",
      "process batch called 1457 writing  0\n",
      "process batch called 1458 writing  0\n"
     ]
    },
    {
     "name": "stderr",
     "output_type": "stream",
     "text": [
      "                                                                                \r"
     ]
    },
    {
     "name": "stdout",
     "output_type": "stream",
     "text": [
      "process batch called 1459 writing  0\n",
      "process batch called 1460 writing  0\n"
     ]
    },
    {
     "name": "stderr",
     "output_type": "stream",
     "text": [
      "                                                                                \r"
     ]
    },
    {
     "name": "stdout",
     "output_type": "stream",
     "text": [
      "process batch called 1461 writing  0\n",
      "process batch called 1462 writing  0\n",
      "process batch called 1463 writing  0\n",
      "process batch called 1464 writing  0\n",
      "process batch called 1465 writing  0\n",
      "process batch called 1466 writing  4\n",
      "process batch called 1467 writing  0\n",
      "process batch called 1468 writing  0\n",
      "process batch called 1469 writing  0\n",
      "process batch called 1470 writing  0\n",
      "process batch called 1471 writing  0\n",
      "process batch called 1472 writing  0\n"
     ]
    },
    {
     "name": "stderr",
     "output_type": "stream",
     "text": [
      "                                                                                \r"
     ]
    },
    {
     "name": "stdout",
     "output_type": "stream",
     "text": [
      "process batch called 1473 writing  0\n",
      "process batch called 1474 writing  0\n"
     ]
    },
    {
     "name": "stderr",
     "output_type": "stream",
     "text": [
      "                                                                                \r"
     ]
    },
    {
     "name": "stdout",
     "output_type": "stream",
     "text": [
      "process batch called 1475 writing  0\n",
      "process batch called 1476 writing  0\n",
      "process batch called 1477 writing  0\n",
      "process batch called 1478 writing  0\n",
      "process batch called 1479 writing  0\n",
      "process batch called 1480 writing  0\n",
      "process batch called 1481 writing  0\n",
      "process batch called 1482 writing  0\n",
      "process batch called 1483 writing  0\n",
      "process batch called 1484 writing  0\n",
      "process batch called 1485 writing  0\n",
      "process batch called 1486 writing  0\n",
      "process batch called 1487 writing  0\n",
      "process batch called 1488 writing  0\n",
      "process batch called 1489 writing  0\n",
      "process batch called 1490 writing  0\n",
      "process batch called 1491 writing  0\n",
      "process batch called 1492 writing  0\n",
      "process batch called 1493 writing  0\n",
      "process batch called 1494 writing  0\n",
      "process batch called 1495 writing  0\n",
      "process batch called 1496 writing  0\n",
      "process batch called 1497 writing  0\n",
      "process batch called 1498 writing  0\n"
     ]
    },
    {
     "name": "stderr",
     "output_type": "stream",
     "text": [
      "                                                                                \r"
     ]
    },
    {
     "name": "stdout",
     "output_type": "stream",
     "text": [
      "process batch called 1499 writing  0\n",
      "process batch called 1500 writing  0\n",
      "process batch called 1501 writing  0\n",
      "process batch called 1502 writing  4\n",
      "process batch called 1503 writing  0\n",
      "process batch called 1504 writing  0\n",
      "process batch called 1505 writing  0\n",
      "process batch called 1506 writing  0\n",
      "process batch called 1507 writing  0\n",
      "process batch called 1508 writing  0\n",
      "process batch called 1509 writing  0\n",
      "process batch called 1510 writing  0\n"
     ]
    },
    {
     "name": "stderr",
     "output_type": "stream",
     "text": [
      "                                                                                \r"
     ]
    },
    {
     "name": "stdout",
     "output_type": "stream",
     "text": [
      "process batch called 1511 writing  0\n",
      "process batch called 1512 writing  0\n",
      "process batch called 1513 writing  0\n",
      "process batch called 1514 writing  0\n",
      "process batch called 1515 writing  0\n",
      "process batch called 1516 writing  0\n",
      "process batch called 1517 writing  0\n",
      "process batch called 1518 writing  0\n",
      "process batch called 1519 writing  0\n",
      "process batch called 1520 writing  0\n",
      "process batch called 1521 writing  0\n",
      "process batch called 1522 writing  0\n",
      "process batch called 1523 writing  0\n",
      "process batch called 1524 writing  0\n"
     ]
    },
    {
     "name": "stderr",
     "output_type": "stream",
     "text": [
      "                                                                                \r"
     ]
    },
    {
     "name": "stdout",
     "output_type": "stream",
     "text": [
      "process batch called 1525 writing  0\n",
      "process batch called 1526 writing  0\n",
      "process batch called 1527 writing  0\n",
      "process batch called 1528 writing  0\n",
      "process batch called 1529 writing  0\n",
      "process batch called 1530 writing  0\n"
     ]
    },
    {
     "name": "stderr",
     "output_type": "stream",
     "text": [
      "                                                                                \r"
     ]
    },
    {
     "name": "stdout",
     "output_type": "stream",
     "text": [
      "process batch called 1531 writing  0\n",
      "process batch called 1532 writing  0\n",
      "process batch called 1533 writing  0\n",
      "process batch called 1534 writing  0\n",
      "process batch called 1535 writing  0\n",
      "process batch called 1536 writing  0\n",
      "process batch called 1537 writing  0\n",
      "process batch called 1538 writing  4\n",
      "process batch called 1539 writing  0\n",
      "process batch called 1540 writing  0\n",
      "process batch called 1541 writing  0\n",
      "process batch called 1542 writing  0\n",
      "process batch called 1543 writing  0\n",
      "process batch called 1544 writing  0\n"
     ]
    },
    {
     "name": "stderr",
     "output_type": "stream",
     "text": [
      "                                                                                \r"
     ]
    },
    {
     "name": "stdout",
     "output_type": "stream",
     "text": [
      "process batch called 1545 writing  0\n",
      "process batch called 1546 writing  0\n",
      "process batch called 1547 writing  0\n",
      "process batch called 1548 writing  0\n",
      "process batch called 1549 writing  0\n",
      "process batch called 1550 writing  0\n"
     ]
    },
    {
     "name": "stderr",
     "output_type": "stream",
     "text": [
      "                                                                                \r"
     ]
    },
    {
     "name": "stdout",
     "output_type": "stream",
     "text": [
      "process batch called 1551 writing  0\n",
      "process batch called 1552 writing  0\n",
      "process batch called 1553 writing  0\n",
      "process batch called 1554 writing  0\n",
      "process batch called 1555 writing  0\n",
      "process batch called 1556 writing  0\n",
      "process batch called 1557 writing  0\n",
      "process batch called 1558 writing  0\n"
     ]
    },
    {
     "name": "stderr",
     "output_type": "stream",
     "text": [
      "                                                                                \r"
     ]
    },
    {
     "name": "stdout",
     "output_type": "stream",
     "text": [
      "process batch called 1559 writing  0\n",
      "process batch called 1560 writing  0\n",
      "process batch called 1561 writing  0\n",
      "process batch called 1562 writing  0\n"
     ]
    },
    {
     "name": "stderr",
     "output_type": "stream",
     "text": [
      "                                                                                \r"
     ]
    },
    {
     "name": "stdout",
     "output_type": "stream",
     "text": [
      "process batch called 1563 writing  0\n",
      "process batch called 1564 writing  0\n",
      "process batch called 1565 writing  0\n",
      "process batch called 1566 writing  0\n",
      "process batch called 1567 writing  0\n",
      "process batch called 1568 writing  0\n",
      "process batch called 1569 writing  0\n",
      "process batch called 1570 writing  0\n"
     ]
    },
    {
     "name": "stderr",
     "output_type": "stream",
     "text": [
      "                                                                                \r"
     ]
    },
    {
     "name": "stdout",
     "output_type": "stream",
     "text": [
      "process batch called 1571 writing  0\n",
      "process batch called 1572 writing  0\n"
     ]
    },
    {
     "name": "stderr",
     "output_type": "stream",
     "text": [
      "                                                                                \r"
     ]
    },
    {
     "name": "stdout",
     "output_type": "stream",
     "text": [
      "process batch called 1573 writing  0\n",
      "process batch called 1574 writing  4\n",
      "process batch called 1575 writing  0\n",
      "process batch called 1576 writing  0\n",
      "process batch called 1577 writing  0\n",
      "process batch called 1578 writing  0\n",
      "process batch called 1579 writing  0\n",
      "process batch called 1580 writing  0\n",
      "process batch called 1581 writing  0\n",
      "process batch called 1582 writing  0\n",
      "process batch called 1583 writing  0\n",
      "process batch called 1584 writing  0\n",
      "process batch called 1585 writing  0\n",
      "process batch called 1586 writing  0\n",
      "process batch called 1587 writing  0\n",
      "process batch called 1588 writing  0\n"
     ]
    },
    {
     "name": "stderr",
     "output_type": "stream",
     "text": [
      "                                                                                \r"
     ]
    },
    {
     "name": "stdout",
     "output_type": "stream",
     "text": [
      "process batch called 1589 writing  0\n",
      "process batch called 1590 writing  0\n",
      "process batch called 1591 writing  0\n",
      "process batch called 1592 writing  0\n",
      "process batch called 1593 writing  0\n",
      "process batch called 1594 writing  0\n",
      "process batch called 1595 writing  0\n",
      "process batch called 1596 writing  0\n",
      "process batch called 1597 writing  0\n",
      "process batch called 1598 writing  0\n",
      "process batch called 1599 writing  0\n",
      "process batch called 1600 writing  0\n",
      "process batch called 1601 writing  0\n",
      "process batch called 1602 writing  0\n"
     ]
    },
    {
     "name": "stderr",
     "output_type": "stream",
     "text": [
      "                                                                                \r"
     ]
    },
    {
     "name": "stdout",
     "output_type": "stream",
     "text": [
      "process batch called 1603 writing  0\n",
      "process batch called 1604 writing  0\n",
      "process batch called 1605 writing  0\n",
      "process batch called 1606 writing  0\n",
      "process batch called 1607 writing  0\n",
      "process batch called 1608 writing  0\n",
      "process batch called 1609 writing  0\n",
      "process batch called 1610 writing  4\n",
      "process batch called 1611 writing  0\n",
      "process batch called 1612 writing  0\n",
      "process batch called 1613 writing  0\n",
      "process batch called 1614 writing  0\n",
      "process batch called 1615 writing  0\n",
      "process batch called 1616 writing  0\n",
      "process batch called 1617 writing  0\n",
      "process batch called 1618 writing  0\n",
      "process batch called 1619 writing  0\n",
      "process batch called 1620 writing  0\n",
      "process batch called 1621 writing  0\n",
      "process batch called 1622 writing  0\n",
      "process batch called 1623 writing  0\n",
      "process batch called 1624 writing  0\n",
      "process batch called 1625 writing  0\n",
      "process batch called 1626 writing  0\n",
      "process batch called 1627 writing  0\n",
      "process batch called 1628 writing  0\n",
      "process batch called 1629 writing  0\n",
      "process batch called 1630 writing  0\n",
      "process batch called 1631 writing  0\n",
      "process batch called 1632 writing  0\n",
      "process batch called 1633 writing  0\n",
      "process batch called 1634 writing  0\n",
      "process batch called 1635 writing  0\n",
      "process batch called 1636 writing  0\n",
      "process batch called 1637 writing  0\n",
      "process batch called 1638 writing  0\n",
      "process batch called 1639 writing  0\n",
      "process batch called 1640 writing  0\n"
     ]
    },
    {
     "name": "stderr",
     "output_type": "stream",
     "text": [
      "                                                                                \r"
     ]
    },
    {
     "name": "stdout",
     "output_type": "stream",
     "text": [
      "process batch called 1641 writing  0\n",
      "process batch called 1642 writing  0\n",
      "process batch called 1643 writing  0\n",
      "process batch called 1644 writing  0\n",
      "process batch called 1645 writing  0\n",
      "process batch called 1646 writing  4\n",
      "process batch called 1647 writing  0\n",
      "process batch called 1648 writing  0\n",
      "process batch called 1649 writing  0\n",
      "process batch called 1650 writing  0\n",
      "process batch called 1651 writing  0\n",
      "process batch called 1652 writing  0\n",
      "process batch called 1653 writing  0\n",
      "process batch called 1654 writing  0\n"
     ]
    },
    {
     "name": "stderr",
     "output_type": "stream",
     "text": [
      "                                                                                \r"
     ]
    },
    {
     "name": "stdout",
     "output_type": "stream",
     "text": [
      "process batch called 1655 writing  0\n",
      "process batch called 1656 writing  0\n",
      "process batch called 1657 writing  0\n",
      "process batch called 1658 writing  0\n",
      "process batch called 1659 writing  0\n",
      "process batch called 1660 writing  0\n",
      "process batch called 1661 writing  0\n",
      "process batch called 1662 writing  0\n",
      "process batch called 1663 writing  0\n",
      "process batch called 1664 writing  0\n",
      "process batch called 1665 writing  0\n",
      "process batch called 1666 writing  0\n",
      "process batch called 1667 writing  0\n",
      "process batch called 1668 writing  0\n",
      "process batch called 1669 writing  0\n",
      "process batch called 1670 writing  0\n"
     ]
    },
    {
     "name": "stderr",
     "output_type": "stream",
     "text": [
      "                                                                                \r"
     ]
    },
    {
     "name": "stdout",
     "output_type": "stream",
     "text": [
      "process batch called 1671 writing  0\n",
      "process batch called 1672 writing  0\n",
      "process batch called 1673 writing  0\n",
      "process batch called 1674 writing  0\n",
      "process batch called 1675 writing  0\n",
      "process batch called 1676 writing  0\n",
      "process batch called 1677 writing  0\n",
      "process batch called 1678 writing  0\n",
      "process batch called 1679 writing  0\n",
      "process batch called 1680 writing  0\n"
     ]
    },
    {
     "name": "stderr",
     "output_type": "stream",
     "text": [
      "                                                                                \r"
     ]
    },
    {
     "name": "stdout",
     "output_type": "stream",
     "text": [
      "process batch called 1681 writing  0\n",
      "process batch called 1682 writing  4\n",
      "process batch called 1683 writing  0\n",
      "process batch called 1684 writing  0\n"
     ]
    },
    {
     "name": "stderr",
     "output_type": "stream",
     "text": [
      "                                                                                \r"
     ]
    },
    {
     "name": "stdout",
     "output_type": "stream",
     "text": [
      "process batch called 1685 writing  0\n",
      "process batch called 1686 writing  0\n",
      "process batch called 1687 writing  0\n",
      "process batch called 1688 writing  0\n",
      "process batch called 1689 writing  0\n",
      "process batch called 1690 writing  0\n",
      "process batch called 1691 writing  0\n",
      "process batch called 1692 writing  0\n",
      "process batch called 1693 writing  0\n",
      "process batch called 1694 writing  0\n",
      "process batch called 1695 writing  0\n",
      "process batch called 1696 writing  0\n",
      "process batch called 1697 writing  0\n",
      "process batch called 1698 writing  0\n"
     ]
    },
    {
     "name": "stderr",
     "output_type": "stream",
     "text": [
      "                                                                                \r"
     ]
    },
    {
     "name": "stdout",
     "output_type": "stream",
     "text": [
      "process batch called 1699 writing  0\n",
      "process batch called 1700 writing  0\n",
      "process batch called 1701 writing  0\n",
      "process batch called 1702 writing  0\n",
      "process batch called 1703 writing  0\n",
      "process batch called 1704 writing  0\n",
      "process batch called 1705 writing  0\n",
      "process batch called 1706 writing  0\n",
      "process batch called 1707 writing  0\n",
      "process batch called 1708 writing  0\n",
      "process batch called 1709 writing  0\n",
      "process batch called 1710 writing  0\n"
     ]
    },
    {
     "name": "stderr",
     "output_type": "stream",
     "text": [
      "                                                                                \r"
     ]
    },
    {
     "name": "stdout",
     "output_type": "stream",
     "text": [
      "process batch called 1711 writing  0\n",
      "process batch called 1712 writing  0\n",
      "process batch called 1713 writing  0\n",
      "process batch called 1714 writing  0\n",
      "process batch called 1715 writing  0\n",
      "process batch called 1716 writing  0\n",
      "process batch called 1717 writing  0\n",
      "process batch called 1718 writing  4\n"
     ]
    },
    {
     "name": "stderr",
     "output_type": "stream",
     "text": [
      "                                                                                \r"
     ]
    },
    {
     "name": "stdout",
     "output_type": "stream",
     "text": [
      "process batch called 1719 writing  0\n",
      "process batch called 1720 writing  0\n",
      "process batch called 1721 writing  0\n",
      "process batch called 1722 writing  0\n",
      "process batch called 1723 writing  0\n",
      "process batch called 1724 writing  0\n",
      "process batch called 1725 writing  0\n",
      "process batch called 1726 writing  0\n",
      "process batch called 1727 writing  0\n",
      "process batch called 1728 writing  0\n",
      "process batch called 1729 writing  0\n",
      "process batch called 1730 writing  0\n",
      "process batch called 1731 writing  0\n",
      "process batch called 1732 writing  0\n",
      "process batch called 1733 writing  0\n",
      "process batch called 1734 writing  0\n",
      "process batch called 1735 writing  0\n",
      "process batch called 1736 writing  0\n",
      "process batch called 1737 writing  0\n",
      "process batch called 1738 writing  0\n",
      "process batch called 1739 writing  0\n",
      "process batch called 1740 writing  0\n",
      "process batch called 1741 writing  0\n",
      "process batch called 1742 writing  0\n",
      "process batch called 1743 writing  0\n",
      "process batch called 1744 writing  0\n",
      "process batch called 1745 writing  0\n",
      "process batch called 1746 writing  0\n",
      "process batch called 1747 writing  0\n",
      "process batch called 1748 writing  0\n",
      "process batch called 1749 writing  0\n",
      "process batch called 1750 writing  0\n",
      "process batch called 1751 writing  0\n",
      "process batch called 1752 writing  0\n",
      "process batch called 1753 writing  0\n",
      "process batch called 1754 writing  4\n",
      "process batch called 1755 writing  0\n",
      "process batch called 1756 writing  0\n",
      "process batch called 1757 writing  0\n",
      "process batch called 1758 writing  0\n"
     ]
    },
    {
     "name": "stderr",
     "output_type": "stream",
     "text": [
      "                                                                                \r"
     ]
    },
    {
     "name": "stdout",
     "output_type": "stream",
     "text": [
      "process batch called 1759 writing  0\n",
      "process batch called 1760 writing  0\n",
      "process batch called 1761 writing  0\n",
      "process batch called 1762 writing  0\n",
      "process batch called 1763 writing  0\n",
      "process batch called 1764 writing  0\n",
      "process batch called 1765 writing  0\n",
      "process batch called 1766 writing  0\n"
     ]
    },
    {
     "name": "stderr",
     "output_type": "stream",
     "text": [
      "                                                                                \r"
     ]
    },
    {
     "name": "stdout",
     "output_type": "stream",
     "text": [
      "process batch called 1767 writing  0\n",
      "process batch called 1768 writing  0\n",
      "process batch called 1769 writing  0\n",
      "process batch called 1770 writing  0\n"
     ]
    },
    {
     "name": "stderr",
     "output_type": "stream",
     "text": [
      "                                                                                \r"
     ]
    },
    {
     "name": "stdout",
     "output_type": "stream",
     "text": [
      "process batch called 1771 writing  0\n",
      "process batch called 1772 writing  0\n",
      "process batch called 1773 writing  0\n",
      "process batch called 1774 writing  0\n",
      "process batch called 1775 writing  0\n",
      "process batch called 1776 writing  0\n",
      "process batch called 1777 writing  0\n",
      "process batch called 1778 writing  0\n",
      "process batch called 1779 writing  0\n",
      "process batch called 1780 writing  0\n",
      "process batch called 1781 writing  0\n",
      "process batch called 1782 writing  0\n",
      "process batch called 1783 writing  0\n",
      "process batch called 1784 writing  0\n",
      "process batch called 1785 writing  0\n",
      "process batch called 1786 writing  0\n",
      "process batch called 1787 writing  0\n",
      "process batch called 1788 writing  0\n"
     ]
    },
    {
     "name": "stderr",
     "output_type": "stream",
     "text": [
      "                                                                                \r"
     ]
    },
    {
     "name": "stdout",
     "output_type": "stream",
     "text": [
      "process batch called 1789 writing  0\n",
      "process batch called 1790 writing  4\n",
      "process batch called 1791 writing  0\n",
      "process batch called 1792 writing  0\n",
      "process batch called 1793 writing  0\n",
      "process batch called 1794 writing  0\n",
      "process batch called 1795 writing  0\n",
      "process batch called 1796 writing  0\n"
     ]
    },
    {
     "name": "stderr",
     "output_type": "stream",
     "text": [
      "                                                                                \r"
     ]
    },
    {
     "name": "stdout",
     "output_type": "stream",
     "text": [
      "process batch called 1797 writing  0\n",
      "process batch called 1798 writing  0\n",
      "process batch called 1799 writing  0\n",
      "process batch called 1800 writing  0\n"
     ]
    },
    {
     "name": "stderr",
     "output_type": "stream",
     "text": [
      "                                                                                \r"
     ]
    },
    {
     "name": "stdout",
     "output_type": "stream",
     "text": [
      "process batch called 1801 writing  0\n",
      "process batch called 1802 writing  0\n",
      "process batch called 1803 writing  0\n",
      "process batch called 1804 writing  0\n",
      "process batch called 1805 writing  0\n",
      "process batch called 1806 writing  0\n",
      "process batch called 1807 writing  0\n",
      "process batch called 1808 writing  0\n",
      "process batch called 1809 writing  0\n",
      "process batch called 1810 writing  0\n",
      "process batch called 1811 writing  0\n",
      "process batch called 1812 writing  0\n",
      "process batch called 1813 writing  0\n",
      "process batch called 1814 writing  0\n"
     ]
    },
    {
     "name": "stderr",
     "output_type": "stream",
     "text": [
      "                                                                                \r"
     ]
    },
    {
     "name": "stdout",
     "output_type": "stream",
     "text": [
      "process batch called 1815 writing  0\n",
      "process batch called 1816 writing  0\n",
      "process batch called 1817 writing  0\n",
      "process batch called 1818 writing  0\n",
      "process batch called 1819 writing  0\n",
      "process batch called 1820 writing  0\n",
      "process batch called 1821 writing  0\n",
      "process batch called 1822 writing  0\n"
     ]
    },
    {
     "name": "stderr",
     "output_type": "stream",
     "text": [
      "                                                                                \r"
     ]
    },
    {
     "name": "stdout",
     "output_type": "stream",
     "text": [
      "process batch called 1823 writing  0\n",
      "process batch called 1824 writing  0\n",
      "process batch called 1825 writing  0\n",
      "process batch called 1826 writing  4\n"
     ]
    },
    {
     "name": "stderr",
     "output_type": "stream",
     "text": [
      "                                                                                \r"
     ]
    },
    {
     "name": "stdout",
     "output_type": "stream",
     "text": [
      "process batch called 1827 writing  0\n",
      "process batch called 1828 writing  0\n"
     ]
    },
    {
     "name": "stderr",
     "output_type": "stream",
     "text": [
      "                                                                                \r"
     ]
    },
    {
     "name": "stdout",
     "output_type": "stream",
     "text": [
      "process batch called 1829 writing  0\n",
      "process batch called 1830 writing  0\n",
      "process batch called 1831 writing  0\n",
      "process batch called 1832 writing  0\n",
      "process batch called 1833 writing  0\n",
      "process batch called 1834 writing  0\n",
      "process batch called 1835 writing  0\n",
      "process batch called 1836 writing  0\n"
     ]
    },
    {
     "name": "stderr",
     "output_type": "stream",
     "text": [
      "                                                                                \r"
     ]
    },
    {
     "name": "stdout",
     "output_type": "stream",
     "text": [
      "process batch called 1837 writing  0\n",
      "process batch called 1838 writing  0\n",
      "process batch called 1839 writing  0\n",
      "process batch called 1840 writing  0\n",
      "process batch called 1841 writing  0\n",
      "process batch called 1842 writing  0\n",
      "process batch called 1843 writing  0\n",
      "process batch called 1844 writing  0\n",
      "process batch called 1845 writing  0\n",
      "process batch called 1846 writing  0\n",
      "process batch called 1847 writing  0\n",
      "process batch called 1848 writing  0\n",
      "process batch called 1849 writing  0\n",
      "process batch called 1850 writing  0\n",
      "process batch called 1851 writing  0\n",
      "process batch called 1852 writing  0\n",
      "process batch called 1853 writing  0\n",
      "process batch called 1854 writing  0\n",
      "process batch called 1855 writing  0\n",
      "process batch called 1856 writing  0\n"
     ]
    },
    {
     "name": "stderr",
     "output_type": "stream",
     "text": [
      "                                                                                \r"
     ]
    },
    {
     "name": "stdout",
     "output_type": "stream",
     "text": [
      "process batch called 1857 writing  0\n",
      "process batch called 1858 writing  0\n",
      "process batch called 1859 writing  0\n",
      "process batch called 1860 writing  0\n",
      "process batch called 1861 writing  0\n",
      "process batch called 1862 writing  4\n"
     ]
    },
    {
     "name": "stderr",
     "output_type": "stream",
     "text": [
      "                                                                                \r"
     ]
    },
    {
     "name": "stdout",
     "output_type": "stream",
     "text": [
      "process batch called 1863 writing  0\n",
      "process batch called 1864 writing  0\n",
      "process batch called 1865 writing  0\n",
      "process batch called 1866 writing  0\n",
      "process batch called 1867 writing  0\n",
      "process batch called 1868 writing  0\n",
      "process batch called 1869 writing  0\n",
      "process batch called 1870 writing  0\n",
      "process batch called 1871 writing  0\n",
      "process batch called 1872 writing  0\n",
      "process batch called 1873 writing  0\n",
      "process batch called 1874 writing  0\n",
      "process batch called 1875 writing  0\n",
      "process batch called 1876 writing  0\n",
      "process batch called 1877 writing  0\n",
      "process batch called 1878 writing  0\n",
      "process batch called 1879 writing  0\n",
      "process batch called 1880 writing  0\n",
      "process batch called 1881 writing  0\n",
      "process batch called 1882 writing  0\n"
     ]
    },
    {
     "name": "stderr",
     "output_type": "stream",
     "text": [
      "                                                                                \r"
     ]
    },
    {
     "name": "stdout",
     "output_type": "stream",
     "text": [
      "process batch called 1883 writing  0\n",
      "process batch called 1884 writing  0\n"
     ]
    },
    {
     "name": "stderr",
     "output_type": "stream",
     "text": [
      "                                                                                \r"
     ]
    },
    {
     "name": "stdout",
     "output_type": "stream",
     "text": [
      "process batch called 1885 writing  0\n",
      "process batch called 1886 writing  0\n",
      "process batch called 1887 writing  0\n",
      "process batch called 1888 writing  0\n"
     ]
    },
    {
     "name": "stderr",
     "output_type": "stream",
     "text": [
      "                                                                                \r"
     ]
    },
    {
     "name": "stdout",
     "output_type": "stream",
     "text": [
      "process batch called 1889 writing  0\n",
      "process batch called 1890 writing  0\n",
      "process batch called 1891 writing  0\n",
      "process batch called 1892 writing  0\n",
      "process batch called 1893 writing  0\n",
      "process batch called 1894 writing  0\n",
      "process batch called 1895 writing  0\n",
      "process batch called 1896 writing  0\n"
     ]
    },
    {
     "name": "stderr",
     "output_type": "stream",
     "text": [
      "                                                                                \r"
     ]
    },
    {
     "name": "stdout",
     "output_type": "stream",
     "text": [
      "process batch called 1897 writing  0\n",
      "process batch called 1898 writing  4\n",
      "process batch called 1899 writing  0\n",
      "process batch called 1900 writing  0\n"
     ]
    },
    {
     "name": "stderr",
     "output_type": "stream",
     "text": [
      "                                                                                \r"
     ]
    },
    {
     "name": "stdout",
     "output_type": "stream",
     "text": [
      "process batch called 1901 writing  0\n",
      "process batch called 1902 writing  0\n",
      "process batch called 1903 writing  0\n",
      "process batch called 1904 writing  0\n",
      "process batch called 1905 writing  0\n",
      "process batch called 1906 writing  0\n",
      "process batch called 1907 writing  0\n",
      "process batch called 1908 writing  0\n",
      "process batch called 1909 writing  0\n",
      "process batch called 1910 writing  0\n",
      "process batch called 1911 writing  0\n",
      "process batch called 1912 writing  0\n",
      "process batch called 1913 writing  0\n",
      "process batch called 1914 writing  0\n"
     ]
    },
    {
     "name": "stderr",
     "output_type": "stream",
     "text": [
      "                                                                                \r"
     ]
    },
    {
     "name": "stdout",
     "output_type": "stream",
     "text": [
      "process batch called 1915 writing  0\n",
      "process batch called 1916 writing  0\n",
      "process batch called 1917 writing  0\n",
      "process batch called 1918 writing  0\n",
      "process batch called 1919 writing  0\n",
      "process batch called 1920 writing  0\n",
      "process batch called 1921 writing  0\n",
      "process batch called 1922 writing  0\n"
     ]
    },
    {
     "name": "stderr",
     "output_type": "stream",
     "text": [
      "                                                                                \r"
     ]
    },
    {
     "name": "stdout",
     "output_type": "stream",
     "text": [
      "process batch called 1923 writing  0\n",
      "process batch called 1924 writing  0\n",
      "process batch called 1925 writing  0\n",
      "process batch called 1926 writing  0\n"
     ]
    },
    {
     "name": "stderr",
     "output_type": "stream",
     "text": [
      "                                                                                \r"
     ]
    },
    {
     "name": "stdout",
     "output_type": "stream",
     "text": [
      "process batch called 1927 writing  0\n",
      "process batch called 1928 writing  0\n",
      "process batch called 1929 writing  0\n",
      "process batch called 1930 writing  0\n",
      "process batch called 1931 writing  0\n",
      "process batch called 1932 writing  0\n",
      "process batch called 1933 writing  0\n",
      "process batch called 1934 writing  4\n",
      "process batch called 1935 writing  0\n",
      "process batch called 1936 writing  0\n",
      "process batch called 1937 writing  0\n",
      "process batch called 1938 writing  0\n",
      "process batch called 1939 writing  0\n",
      "process batch called 1940 writing  0\n"
     ]
    },
    {
     "name": "stderr",
     "output_type": "stream",
     "text": [
      "                                                                                \r"
     ]
    },
    {
     "name": "stdout",
     "output_type": "stream",
     "text": [
      "process batch called 1941 writing  0\n",
      "process batch called 1942 writing  0\n",
      "process batch called 1943 writing  0\n",
      "process batch called 1944 writing  0\n",
      "process batch called 1945 writing  0\n",
      "process batch called 1946 writing  0\n",
      "process batch called 1947 writing  0\n",
      "process batch called 1948 writing  0\n",
      "process batch called 1949 writing  0\n",
      "process batch called 1950 writing  0\n",
      "process batch called 1951 writing  0\n",
      "process batch called 1952 writing  0\n"
     ]
    },
    {
     "name": "stderr",
     "output_type": "stream",
     "text": [
      "                                                                                \r"
     ]
    },
    {
     "name": "stdout",
     "output_type": "stream",
     "text": [
      "process batch called 1953 writing  0\n",
      "process batch called 1954 writing  0\n",
      "process batch called 1955 writing  0\n",
      "process batch called 1956 writing  0\n",
      "process batch called 1957 writing  0\n",
      "process batch called 1958 writing  0\n",
      "process batch called 1959 writing  0\n",
      "process batch called 1960 writing  0\n",
      "process batch called 1961 writing  0\n",
      "process batch called 1962 writing  0\n",
      "process batch called 1963 writing  0\n",
      "process batch called 1964 writing  0\n",
      "process batch called 1965 writing  0\n",
      "process batch called 1966 writing  0\n",
      "process batch called 1967 writing  0\n",
      "process batch called 1968 writing  0\n",
      "process batch called 1969 writing  0\n",
      "process batch called 1970 writing  4\n",
      "process batch called 1971 writing  0\n",
      "process batch called 1972 writing  0\n",
      "process batch called 1973 writing  0\n",
      "process batch called 1974 writing  0\n",
      "process batch called 1975 writing  0\n",
      "process batch called 1976 writing  0\n",
      "process batch called 1977 writing  0\n",
      "process batch called 1978 writing  0\n"
     ]
    },
    {
     "name": "stderr",
     "output_type": "stream",
     "text": [
      "                                                                                \r"
     ]
    },
    {
     "name": "stdout",
     "output_type": "stream",
     "text": [
      "process batch called 1979 writing  0\n",
      "process batch called 1980 writing  0\n",
      "process batch called 1981 writing  0\n",
      "process batch called 1982 writing  0\n",
      "process batch called 1983 writing  0\n",
      "process batch called 1984 writing  0\n",
      "process batch called 1985 writing  0\n",
      "process batch called 1986 writing  0\n",
      "process batch called 1987 writing  0\n",
      "process batch called 1988 writing  0\n",
      "process batch called 1989 writing  0\n",
      "process batch called 1990 writing  0\n",
      "process batch called 1991 writing  0\n",
      "process batch called 1992 writing  0\n"
     ]
    },
    {
     "name": "stderr",
     "output_type": "stream",
     "text": [
      "                                                                                \r"
     ]
    },
    {
     "name": "stdout",
     "output_type": "stream",
     "text": [
      "process batch called 1993 writing  0\n",
      "process batch called 1994 writing  0\n",
      "process batch called 1995 writing  0\n",
      "process batch called 1996 writing  0\n"
     ]
    },
    {
     "name": "stderr",
     "output_type": "stream",
     "text": [
      "                                                                                \r"
     ]
    },
    {
     "name": "stdout",
     "output_type": "stream",
     "text": [
      "process batch called 1997 writing  0\n",
      "process batch called 1998 writing  0\n",
      "process batch called 1999 writing  0\n",
      "process batch called 2000 writing  0\n",
      "process batch called 2001 writing  0\n",
      "process batch called 2002 writing  0\n",
      "process batch called 2003 writing  0\n",
      "process batch called 2004 writing  0\n",
      "process batch called 2005 writing  0\n",
      "process batch called 2006 writing  4\n",
      "process batch called 2007 writing  0\n",
      "process batch called 2008 writing  0\n",
      "process batch called 2009 writing  0\n",
      "process batch called 2010 writing  0\n",
      "process batch called 2011 writing  0\n",
      "process batch called 2012 writing  0\n",
      "process batch called 2013 writing  0\n",
      "process batch called 2014 writing  0\n",
      "process batch called 2015 writing  0\n",
      "process batch called 2016 writing  0\n",
      "process batch called 2017 writing  0\n",
      "process batch called 2018 writing  0\n",
      "process batch called 2019 writing  0\n",
      "process batch called 2020 writing  0\n",
      "process batch called 2021 writing  0\n",
      "process batch called 2022 writing  0\n",
      "process batch called 2023 writing  0\n",
      "process batch called 2024 writing  0\n",
      "process batch called 2025 writing  0\n",
      "process batch called 2026 writing  0\n",
      "process batch called 2027 writing  0\n",
      "process batch called 2028 writing  0\n",
      "process batch called 2029 writing  0\n",
      "process batch called 2030 writing  0\n",
      "process batch called 2031 writing  0\n",
      "process batch called 2032 writing  0\n",
      "process batch called 2033 writing  0\n",
      "process batch called 2034 writing  0\n",
      "process batch called 2035 writing  0\n",
      "process batch called 2036 writing  0\n"
     ]
    },
    {
     "name": "stderr",
     "output_type": "stream",
     "text": [
      "                                                                                \r"
     ]
    },
    {
     "name": "stdout",
     "output_type": "stream",
     "text": [
      "process batch called 2037 writing  0\n",
      "process batch called 2038 writing  0\n",
      "process batch called 2039 writing  0\n",
      "process batch called 2040 writing  0\n",
      "process batch called 2041 writing  0\n",
      "process batch called 2042 writing  4\n",
      "process batch called 2043 writing  0\n"
     ]
    },
    {
     "name": "stderr",
     "output_type": "stream",
     "text": [
      "                                                                                \r"
     ]
    },
    {
     "name": "stdout",
     "output_type": "stream",
     "text": [
      "process batch called 2044 writing  0\n",
      "process batch called 2045 writing  0\n",
      "process batch called 2046 writing  0\n",
      "process batch called 2047 writing  0\n",
      "process batch called 2048 writing  0\n",
      "process batch called 2049 writing  0\n",
      "process batch called 2050 writing  0\n",
      "process batch called 2051 writing  0\n",
      "process batch called 2052 writing  0\n"
     ]
    },
    {
     "name": "stderr",
     "output_type": "stream",
     "text": [
      "                                                                                \r"
     ]
    },
    {
     "name": "stdout",
     "output_type": "stream",
     "text": [
      "process batch called 2053 writing  0\n",
      "process batch called 2054 writing  0\n",
      "process batch called 2055 writing  0\n",
      "process batch called 2056 writing  0\n",
      "process batch called 2057 writing  0\n",
      "process batch called 2058 writing  0\n",
      "process batch called 2059 writing  0\n",
      "process batch called 2060 writing  0\n",
      "process batch called 2061 writing  0\n",
      "process batch called 2062 writing  0\n",
      "process batch called 2063 writing  0\n",
      "process batch called 2064 writing  0\n",
      "process batch called 2065 writing  0\n",
      "process batch called 2066 writing  0\n",
      "process batch called 2067 writing  0\n",
      "process batch called 2068 writing  0\n"
     ]
    },
    {
     "name": "stderr",
     "output_type": "stream",
     "text": [
      "                                                                                \r"
     ]
    },
    {
     "name": "stdout",
     "output_type": "stream",
     "text": [
      "process batch called 2069 writing  0\n"
     ]
    },
    {
     "name": "stderr",
     "output_type": "stream",
     "text": [
      "                                                                                \r"
     ]
    },
    {
     "name": "stdout",
     "output_type": "stream",
     "text": [
      "process batch called 2070 writing  0\n"
     ]
    },
    {
     "name": "stderr",
     "output_type": "stream",
     "text": [
      "                                                                                \r"
     ]
    },
    {
     "name": "stdout",
     "output_type": "stream",
     "text": [
      "process batch called 2071 writing  0\n",
      "process batch called 2072 writing  0\n",
      "process batch called 2073 writing  0\n",
      "process batch called 2074 writing  0\n",
      "process batch called 2075 writing  0\n",
      "process batch called 2076 writing  0\n",
      "process batch called 2077 writing  0\n",
      "process batch called 2078 writing  3\n",
      "process batch called 2079 writing  0\n",
      "process batch called 2080 writing  0\n",
      "process batch called 2081 writing  0\n",
      "process batch called 2082 writing  0\n"
     ]
    },
    {
     "name": "stderr",
     "output_type": "stream",
     "text": [
      "                                                                                \r"
     ]
    },
    {
     "name": "stdout",
     "output_type": "stream",
     "text": [
      "process batch called 2083 writing  0\n",
      "process batch called 2084 writing  0\n",
      "process batch called 2085 writing  0\n",
      "process batch called 2086 writing  0\n",
      "process batch called 2087 writing  0\n",
      "process batch called 2088 writing  0\n",
      "process batch called 2089 writing  0\n",
      "process batch called 2090 writing  0\n",
      "process batch called 2091 writing  0\n",
      "process batch called 2092 writing  0\n",
      "process batch called 2093 writing  0\n",
      "process batch called 2094 writing  0\n",
      "process batch called 2095 writing  0\n"
     ]
    },
    {
     "name": "stderr",
     "output_type": "stream",
     "text": [
      "                                                                                \r"
     ]
    },
    {
     "name": "stdout",
     "output_type": "stream",
     "text": [
      "process batch called 2096 writing  0\n",
      "process batch called 2097 writing  0\n",
      "process batch called 2098 writing  0\n",
      "process batch called 2099 writing  0\n",
      "process batch called 2100 writing  0\n",
      "process batch called 2101 writing  0\n",
      "process batch called 2102 writing  0\n",
      "process batch called 2103 writing  0\n",
      "process batch called 2104 writing  0\n",
      "process batch called 2105 writing  0\n",
      "process batch called 2106 writing  0\n",
      "process batch called 2107 writing  0\n",
      "process batch called 2108 writing  0\n",
      "process batch called 2109 writing  0\n",
      "process batch called 2110 writing  0\n"
     ]
    },
    {
     "name": "stderr",
     "output_type": "stream",
     "text": [
      "                                                                                \r"
     ]
    },
    {
     "name": "stdout",
     "output_type": "stream",
     "text": [
      "process batch called 2111 writing  0\n",
      "process batch called 2112 writing  0\n",
      "process batch called 2113 writing  0\n",
      "process batch called 2114 writing  4\n",
      "process batch called 2115 writing  0\n",
      "process batch called 2116 writing  0\n",
      "process batch called 2117 writing  0\n",
      "process batch called 2118 writing  0\n",
      "process batch called 2119 writing  0\n",
      "process batch called 2120 writing  0\n"
     ]
    },
    {
     "name": "stderr",
     "output_type": "stream",
     "text": [
      "                                                                                \r"
     ]
    },
    {
     "name": "stdout",
     "output_type": "stream",
     "text": [
      "process batch called 2121 writing  0\n",
      "process batch called 2122 writing  0\n",
      "process batch called 2123 writing  0\n",
      "process batch called 2124 writing  0\n"
     ]
    },
    {
     "name": "stderr",
     "output_type": "stream",
     "text": [
      "                                                                                \r"
     ]
    },
    {
     "name": "stdout",
     "output_type": "stream",
     "text": [
      "process batch called 2125 writing  0\n",
      "process batch called 2126 writing  0\n",
      "process batch called 2127 writing  0\n",
      "process batch called 2128 writing  0\n",
      "process batch called 2129 writing  0\n",
      "process batch called 2130 writing  0\n",
      "process batch called 2131 writing  0\n",
      "process batch called 2132 writing  0\n",
      "process batch called 2133 writing  0\n",
      "process batch called 2134 writing  0\n",
      "process batch called 2135 writing  0\n",
      "process batch called 2136 writing  0\n",
      "process batch called 2137 writing  0\n",
      "process batch called 2138 writing  0\n"
     ]
    },
    {
     "name": "stderr",
     "output_type": "stream",
     "text": [
      "                                                                                \r"
     ]
    },
    {
     "name": "stdout",
     "output_type": "stream",
     "text": [
      "process batch called 2139 writing  0\n",
      "process batch called 2140 writing  0\n",
      "process batch called 2141 writing  0\n",
      "process batch called 2142 writing  0\n",
      "process batch called 2143 writing  0\n",
      "process batch called 2144 writing  0\n",
      "process batch called 2145 writing  0\n",
      "process batch called 2146 writing  0\n"
     ]
    },
    {
     "name": "stderr",
     "output_type": "stream",
     "text": [
      "                                                                                \r"
     ]
    },
    {
     "name": "stdout",
     "output_type": "stream",
     "text": [
      "process batch called 2147 writing  0\n",
      "process batch called 2148 writing  0\n",
      "process batch called 2149 writing  0\n",
      "process batch called 2150 writing  4\n",
      "process batch called 2151 writing  0\n",
      "process batch called 2152 writing  0\n",
      "process batch called 2153 writing  0\n",
      "process batch called 2154 writing  0\n",
      "process batch called 2155 writing  0\n",
      "process batch called 2156 writing  0\n",
      "process batch called 2157 writing  0\n",
      "process batch called 2158 writing  0\n",
      "process batch called 2159 writing  0\n",
      "process batch called 2160 writing  0\n"
     ]
    },
    {
     "name": "stderr",
     "output_type": "stream",
     "text": [
      "                                                                                \r"
     ]
    },
    {
     "name": "stdout",
     "output_type": "stream",
     "text": [
      "process batch called 2161 writing  0\n",
      "process batch called 2162 writing  0\n",
      "process batch called 2163 writing  0\n",
      "process batch called 2164 writing  0\n",
      "process batch called 2165 writing  0\n",
      "process batch called 2166 writing  0\n",
      "process batch called 2167 writing  0\n",
      "process batch called 2168 writing  0\n",
      "process batch called 2169 writing  0\n",
      "process batch called 2170 writing  0\n",
      "process batch called 2171 writing  0\n",
      "process batch called 2172 writing  0\n"
     ]
    },
    {
     "name": "stderr",
     "output_type": "stream",
     "text": [
      "                                                                                \r"
     ]
    },
    {
     "name": "stdout",
     "output_type": "stream",
     "text": [
      "process batch called 2173 writing  0\n",
      "process batch called 2174 writing  0\n",
      "process batch called 2175 writing  0\n",
      "process batch called 2176 writing  0\n",
      "process batch called 2177 writing  0\n",
      "process batch called 2178 writing  0\n",
      "process batch called 2179 writing  0\n",
      "process batch called 2180 writing  0\n",
      "process batch called 2181 writing  0\n",
      "process batch called 2182 writing  0\n",
      "process batch called 2183 writing  0\n",
      "process batch called 2184 writing  0\n",
      "process batch called 2185 writing  0\n",
      "process batch called 2186 writing  4\n",
      "process batch called 2187 writing  0\n",
      "process batch called 2188 writing  0\n",
      "process batch called 2189 writing  0\n",
      "process batch called 2190 writing  0\n",
      "process batch called 2191 writing  0\n",
      "process batch called 2192 writing  0\n",
      "process batch called 2193 writing  0\n",
      "process batch called 2194 writing  0\n",
      "process batch called 2195 writing  0\n",
      "process batch called 2196 writing  0\n",
      "process batch called 2197 writing  0\n",
      "process batch called 2198 writing  0\n"
     ]
    },
    {
     "name": "stderr",
     "output_type": "stream",
     "text": [
      "                                                                                \r"
     ]
    },
    {
     "name": "stdout",
     "output_type": "stream",
     "text": [
      "process batch called 2199 writing  0\n",
      "process batch called 2200 writing  0\n",
      "process batch called 2201 writing  0\n",
      "process batch called 2202 writing  0\n",
      "process batch called 2203 writing  0\n",
      "process batch called 2204 writing  0\n",
      "process batch called 2205 writing  0\n",
      "process batch called 2206 writing  0\n",
      "process batch called 2207 writing  0\n",
      "process batch called 2208 writing  0\n",
      "process batch called 2209 writing  0\n",
      "process batch called 2210 writing  0\n"
     ]
    },
    {
     "name": "stderr",
     "output_type": "stream",
     "text": [
      "                                                                                \r"
     ]
    },
    {
     "name": "stdout",
     "output_type": "stream",
     "text": [
      "process batch called 2211 writing  0\n",
      "process batch called 2212 writing  0\n"
     ]
    },
    {
     "name": "stderr",
     "output_type": "stream",
     "text": [
      "                                                                                \r"
     ]
    },
    {
     "name": "stdout",
     "output_type": "stream",
     "text": [
      "process batch called 2213 writing  0\n",
      "process batch called 2214 writing  0\n",
      "process batch called 2215 writing  0\n",
      "process batch called 2216 writing  0\n",
      "process batch called 2217 writing  0\n",
      "process batch called 2218 writing  0\n",
      "process batch called 2219 writing  0\n",
      "process batch called 2220 writing  0\n",
      "process batch called 2221 writing  0\n",
      "process batch called 2222 writing  4\n"
     ]
    },
    {
     "name": "stderr",
     "output_type": "stream",
     "text": [
      "                                                                                \r"
     ]
    },
    {
     "name": "stdout",
     "output_type": "stream",
     "text": [
      "process batch called 2223 writing  0\n",
      "process batch called 2224 writing  0\n"
     ]
    },
    {
     "name": "stderr",
     "output_type": "stream",
     "text": [
      "                                                                                \r"
     ]
    },
    {
     "name": "stdout",
     "output_type": "stream",
     "text": [
      "process batch called 2225 writing  0\n",
      "process batch called 2226 writing  0\n",
      "process batch called 2227 writing  0\n",
      "process batch called 2228 writing  0\n",
      "process batch called 2229 writing  0\n",
      "process batch called 2230 writing  0\n",
      "process batch called 2231 writing  0\n",
      "process batch called 2232 writing  0\n",
      "process batch called 2233 writing  0\n",
      "process batch called 2234 writing  0\n",
      "process batch called 2235 writing  0\n",
      "process batch called 2236 writing  0\n"
     ]
    },
    {
     "name": "stderr",
     "output_type": "stream",
     "text": [
      "                                                                                \r"
     ]
    },
    {
     "name": "stdout",
     "output_type": "stream",
     "text": [
      "process batch called 2237 writing  0\n",
      "process batch called 2238 writing  0\n"
     ]
    },
    {
     "name": "stderr",
     "output_type": "stream",
     "text": [
      "                                                                                \r"
     ]
    },
    {
     "name": "stdout",
     "output_type": "stream",
     "text": [
      "process batch called 2239 writing  0\n",
      "process batch called 2240 writing  0\n",
      "process batch called 2241 writing  0\n",
      "process batch called 2242 writing  0\n",
      "process batch called 2243 writing  0\n",
      "process batch called 2244 writing  0\n",
      "process batch called 2245 writing  0\n",
      "process batch called 2246 writing  0\n",
      "process batch called 2247 writing  0\n",
      "process batch called 2248 writing  0\n",
      "process batch called 2249 writing  0\n",
      "process batch called 2250 writing  0\n"
     ]
    },
    {
     "name": "stderr",
     "output_type": "stream",
     "text": [
      "                                                                                \r"
     ]
    },
    {
     "name": "stdout",
     "output_type": "stream",
     "text": [
      "process batch called 2251 writing  0\n",
      "process batch called 2252 writing  0\n"
     ]
    },
    {
     "name": "stderr",
     "output_type": "stream",
     "text": [
      "                                                                                \r"
     ]
    },
    {
     "name": "stdout",
     "output_type": "stream",
     "text": [
      "process batch called 2253 writing  0\n",
      "process batch called 2254 writing  0\n",
      "process batch called 2255 writing  0\n",
      "process batch called 2256 writing  4\n",
      "process batch called 2257 writing  0\n",
      "process batch called 2258 writing  0\n",
      "process batch called 2259 writing  0\n",
      "process batch called 2260 writing  0\n",
      "process batch called 2261 writing  0\n",
      "process batch called 2262 writing  0\n",
      "process batch called 2263 writing  0\n",
      "process batch called 2264 writing  0\n"
     ]
    },
    {
     "name": "stderr",
     "output_type": "stream",
     "text": [
      "                                                                                \r"
     ]
    },
    {
     "name": "stdout",
     "output_type": "stream",
     "text": [
      "process batch called 2265 writing  0\n",
      "process batch called 2266 writing  0\n"
     ]
    },
    {
     "name": "stderr",
     "output_type": "stream",
     "text": [
      "                                                                                \r"
     ]
    },
    {
     "name": "stdout",
     "output_type": "stream",
     "text": [
      "process batch called 2267 writing  0\n",
      "process batch called 2268 writing  0\n",
      "process batch called 2269 writing  0\n",
      "process batch called 2270 writing  0\n",
      "process batch called 2271 writing  0\n",
      "process batch called 2272 writing  0\n",
      "process batch called 2273 writing  0\n",
      "process batch called 2274 writing  0\n",
      "process batch called 2275 writing  0\n",
      "process batch called 2276 writing  0\n",
      "process batch called 2277 writing  0\n",
      "process batch called 2278 writing  0\n",
      "process batch called 2279 writing  0\n",
      "process batch called 2280 writing  0\n",
      "process batch called 2281 writing  0\n",
      "process batch called 2282 writing  0\n",
      "process batch called 2283 writing  0\n",
      "process batch called 2284 writing  0\n",
      "process batch called 2285 writing  0\n",
      "process batch called 2286 writing  0\n",
      "process batch called 2287 writing  0\n",
      "process batch called 2288 writing  0\n",
      "process batch called 2289 writing  0\n",
      "process batch called 2290 writing  0\n"
     ]
    },
    {
     "name": "stderr",
     "output_type": "stream",
     "text": [
      "                                                                                \r"
     ]
    },
    {
     "name": "stdout",
     "output_type": "stream",
     "text": [
      "process batch called 2291 writing  0\n",
      "process batch called 2292 writing  4\n",
      "process batch called 2293 writing  0\n",
      "process batch called 2294 writing  0\n",
      "process batch called 2295 writing  0\n",
      "process batch called 2296 writing  0\n",
      "process batch called 2297 writing  0\n",
      "process batch called 2298 writing  0\n",
      "process batch called 2299 writing  0\n",
      "process batch called 2300 writing  0\n",
      "process batch called 2301 writing  0\n",
      "process batch called 2302 writing  0\n",
      "process batch called 2303 writing  0\n",
      "process batch called 2304 writing  0\n",
      "process batch called 2305 writing  0\n",
      "process batch called 2306 writing  0\n",
      "process batch called 2307 writing  0\n",
      "process batch called 2308 writing  0\n",
      "process batch called 2309 writing  0\n",
      "process batch called 2310 writing  0\n",
      "process batch called 2311 writing  0\n",
      "process batch called 2312 writing  0\n",
      "process batch called 2313 writing  0\n",
      "process batch called 2314 writing  0\n",
      "process batch called 2315 writing  0\n",
      "process batch called 2316 writing  0\n"
     ]
    },
    {
     "name": "stderr",
     "output_type": "stream",
     "text": [
      "                                                                                \r"
     ]
    },
    {
     "name": "stdout",
     "output_type": "stream",
     "text": [
      "process batch called 2317 writing  0\n",
      "process batch called 2318 writing  0\n",
      "process batch called 2319 writing  0\n",
      "process batch called 2320 writing  0\n",
      "process batch called 2321 writing  0\n",
      "process batch called 2322 writing  0\n",
      "process batch called 2323 writing  0\n",
      "process batch called 2324 writing  0\n"
     ]
    },
    {
     "name": "stderr",
     "output_type": "stream",
     "text": [
      "                                                                                \r"
     ]
    },
    {
     "name": "stdout",
     "output_type": "stream",
     "text": [
      "process batch called 2325 writing  0\n",
      "process batch called 2326 writing  0\n",
      "process batch called 2327 writing  0\n",
      "process batch called 2328 writing  4\n"
     ]
    },
    {
     "name": "stderr",
     "output_type": "stream",
     "text": [
      "                                                                                \r"
     ]
    },
    {
     "name": "stdout",
     "output_type": "stream",
     "text": [
      "process batch called 2329 writing  0\n",
      "process batch called 2330 writing  0\n",
      "process batch called 2331 writing  0\n",
      "process batch called 2332 writing  0\n",
      "process batch called 2333 writing  0\n",
      "process batch called 2334 writing  0\n",
      "process batch called 2335 writing  0\n",
      "process batch called 2336 writing  0\n"
     ]
    },
    {
     "name": "stderr",
     "output_type": "stream",
     "text": [
      "                                                                                \r"
     ]
    },
    {
     "name": "stdout",
     "output_type": "stream",
     "text": [
      "process batch called 2337 writing  0\n",
      "process batch called 2338 writing  0\n"
     ]
    },
    {
     "name": "stderr",
     "output_type": "stream",
     "text": [
      "                                                                                \r"
     ]
    },
    {
     "name": "stdout",
     "output_type": "stream",
     "text": [
      "process batch called 2339 writing  0\n",
      "process batch called 2340 writing  0\n",
      "process batch called 2341 writing  0\n",
      "process batch called 2342 writing  0\n"
     ]
    }
   ],
   "source": [
    "import pyspark.sql.functions as F\n",
    "# output DataStreamWriter\n",
    "# copy symbol to _symbol for partition, as spark shall remove the column \n",
    "# if we use  the column in partitionBy\n",
    "\n",
    "(\n",
    "    stockTickDf\n",
    "     .withColumn(\"year\", F.date_format(F.col(\"timestamp\"), \"yyyy\"))\n",
    "     .withColumn(\"month\", F.date_format(F.col(\"timestamp\"), \"MM\"))\n",
    "     .withColumn(\"day\", F.date_format(F.col(\"timestamp\"), \"dd\"))  \n",
    "     .withColumn(\"hour\", F.date_format(F.col(\"timestamp\"), \"HH\"))   \n",
    "     .withColumn(\"_symbol\", F.col(\"symbol\"))   \n",
    "    .writeStream\n",
    "    .trigger(processingTime='65 seconds')\\\n",
    "    .queryName(\"Write Ticks to CSV trigger by 3min hour\")\n",
    "    .format(\"csv\")\n",
    "    .option(\"path\", \"hdfs://localhost:9000/dump-csv-trigger-hourly-3min\")\n",
    "    .option(\"header\", True)\n",
    "    .option(\"checkpointLocation\", \"hdfs://localhost:9000/checkpoint/tickscsvtohdfs63min\")\n",
    "    .partitionBy(\"year\", \"month\", \"day\", \"hour\", \"_symbol\")\n",
    "    .option(\"truncate\", False)\n",
    "    .start()\n",
    ")"
   ]
  },
  {
   "cell_type": "code",
   "execution_count": null,
   "id": "b4f2e001-2f5f-4767-9239-1582aa2c4176",
   "metadata": {},
   "outputs": [],
   "source": []
  }
 ],
 "metadata": {
  "kernelspec": {
   "display_name": "Python 3 (ipykernel)",
   "language": "python",
   "name": "python3"
  },
  "language_info": {
   "codemirror_mode": {
    "name": "ipython",
    "version": 3
   },
   "file_extension": ".py",
   "mimetype": "text/x-python",
   "name": "python",
   "nbconvert_exporter": "python",
   "pygments_lexer": "ipython3",
   "version": "3.7.12"
  }
 },
 "nbformat": 4,
 "nbformat_minor": 5
}
